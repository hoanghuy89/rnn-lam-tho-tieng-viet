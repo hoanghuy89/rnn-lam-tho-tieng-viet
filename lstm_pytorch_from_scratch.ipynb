{
 "cells": [
  {
   "cell_type": "markdown",
   "metadata": {},
   "source": [
    "# LSTM network for language modeling\n",
    "Here we'll define our own lstm forward pass from scracth, we'll let on pytorch's graph do the backward pass for us. We feed the network one char at a time and let it predict the next char for us. This implementation is inspired by Andrej Karpathy's charRNN and minGPT.\n",
    "\n",
    "<img src='images/General-scheme-of-an-Long-Short-Term-Memory-neural-networks-LSTM-for-L-p-The.ppm' width=600>\n",
    "<a href=https://www.researchgate.net/figure/General-scheme-of-an-Long-Short-Term-Memory-neural-networks-LSTM-for-L-p-The_fig1_339120709>Image from</a>\n",
    "\n",
    "The six equations that make up LSTM\n",
    "```python\n",
    "# concat is input, bxs are bias, Wxs are weights\n",
    "        f = torch.sigmoid(self.Wf @ concat + self.bf) # forget gate\n",
    "        u = torch.sigmoid(self.Wu @ concat + self.bu) # update gate\n",
    "        cc = torch.tanh(self.Wcc @ concat + self.bcc) # candidate\n",
    "        o = torch.sigmoid(self.Wo @ concat + self.bo) # output gate\n",
    "\n",
    "        c = f*c_prev + u*cc # cell state\n",
    "        a = o*torch.tanh(c) # hidden state\n",
    "\n",
    "```"
   ]
  },
  {
   "cell_type": "code",
   "execution_count": 1,
   "metadata": {
    "scrolled": true
   },
   "outputs": [],
   "source": [
    "import logging\n",
    "logging.basicConfig(\n",
    "        format=\"%(asctime)s - %(levelname)s - %(name)s -   %(message)s\",\n",
    "        datefmt=\"%m/%d/%Y %H:%M:%S\",\n",
    "        level=logging.INFO,\n",
    ")\n",
    "\n",
    "%load_ext autoreload\n",
    "%autoreload 2\n",
    "%matplotlib inline\n",
    "from utils.utils import pickle, set_seed\n",
    "set_seed(12)"
   ]
  },
  {
   "cell_type": "code",
   "execution_count": 2,
   "metadata": {},
   "outputs": [],
   "source": [
    "from torch.utils.data import Dataset\n",
    "import torch\n",
    "import numpy as np\n",
    "\n",
    "class CharDataset(Dataset):\n",
    "    def __init__(self, data, sequence_len):\n",
    "        # data in the type of pairs of sentence\n",
    "        \n",
    "        chars = ['<pad>']+sorted(list(set(data)))\n",
    "        data_size, vocab_size = len(data), len(chars)\n",
    "        print('data has %d characters, %d unique.' % (data_size, vocab_size))\n",
    "        \n",
    "        self.ch2i = { ch:i for i,ch in enumerate(chars) }\n",
    "        self.i2ch = { i:ch for i,ch in enumerate(chars) }\n",
    "        self.sequence_len = sequence_len\n",
    "        self.vocab_size = vocab_size\n",
    "        self.data = data\n",
    "    \n",
    "    def __len__(self):\n",
    "        return len(self.data) - self.sequence_len\n",
    "    \n",
    "    def __getitem__(self, idx):\n",
    "        # grab a chunk of (block_size + 1) characters from the data\n",
    "        chunk = self.data[idx:idx + self.sequence_len + 1]\n",
    "        # encode every character to an integer\n",
    "        dix = [self.ch2i[s] for s in chunk]\n",
    "\n",
    "        x = torch.tensor(self.vectorization(dix[:-1]), dtype=torch.long)\n",
    "        y = torch.tensor(dix[1:], dtype=torch.long)\n",
    "        \n",
    "        \n",
    "        return x,y\n",
    "                                                                                                                                       \n",
    "    def padding(self, string):\n",
    "        if len(string)<self.sequence_len:\n",
    "            string =  string + [0]*(self.sequence_len - len(string))\n",
    "        else:\n",
    "            string = string[:self.sequence_len]\n",
    "                   \n",
    "        return string\n",
    "    \n",
    "    def vectorization(self, idx):\n",
    "        out = np.zeros((self.sequence_len, self.vocab_size))\n",
    "        for i, index in enumerate(idx):\n",
    "            out[i,index] = 1\n",
    "        \n",
    "        return out"
   ]
  },
  {
   "cell_type": "code",
   "execution_count": 15,
   "metadata": {},
   "outputs": [
    {
     "name": "stdout",
     "output_type": "stream",
     "text": [
      "data has 3892297 characters, 200 unique.\n"
     ]
    }
   ],
   "source": [
    "text = open('data/Tuyen_Tap_To_Hoai_To_Hoai.txt', 'r', encoding='utf-8').read() # replace text data here\n",
    "dataset = CharDataset(text, sequence_len=128)"
   ]
  },
  {
   "cell_type": "markdown",
   "metadata": {},
   "source": [
    "# Train network"
   ]
  },
  {
   "cell_type": "code",
   "execution_count": 11,
   "metadata": {},
   "outputs": [],
   "source": [
    "from model.lstm import LSTM, LSTMConfig\n",
    "from utils.trainer import Trainer, TrainerConfig\n",
    "\n",
    "tconfig = TrainerConfig(max_epochs=1, \n",
    "                        batch_size=512, \n",
    "                        learning_rate=0.01, \n",
    "                        grad_norm_clip=1.0, \n",
    "                        device='cuda',\n",
    "                        lr_decay=True, \n",
    "                        warmup_tokens=5000, \n",
    "                        ckpt_n_print_iter=2000, \n",
    "                        ckpt_path='checkpoint/lstm')\n",
    "\n",
    "mconfig = LSTMConfig(vocab_size = dataset.vocab_size,\n",
    "                        sequence_len = dataset.sequence_len,\n",
    "                        hidden_size = 256,\n",
    "                        batch_size = tconfig.batch_size,\n",
    "                        device = tconfig.device)"
   ]
  },
  {
   "cell_type": "code",
   "execution_count": 12,
   "metadata": {},
   "outputs": [
    {
     "name": "stderr",
     "output_type": "stream",
     "text": [
      "09/25/2021 05:18:22 - INFO - model.lstm -   number of parameters: 5.193680e+05\n"
     ]
    }
   ],
   "source": [
    "lstm = LSTM(mconfig)\n",
    "trainer = Trainer(lstm, dataset, tconfig, test_dataset=None, collate=None)"
   ]
  },
  {
   "cell_type": "code",
   "execution_count": 13,
   "metadata": {},
   "outputs": [
    {
     "data": {
      "text/plain": [
       "<All keys matched successfully>"
      ]
     },
     "execution_count": 13,
     "metadata": {},
     "output_type": "execute_result"
    }
   ],
   "source": [
    "lstm.load_state_dict(pickle(tconfig.ckpt_path)) # load"
   ]
  },
  {
   "cell_type": "code",
   "execution_count": 14,
   "metadata": {
    "scrolled": true
   },
   "outputs": [
    {
     "name": "stderr",
     "output_type": "stream",
     "text": [
      "epoch: 1 | train loss: 0.52646  | lr: 1.024000e-03:   0%|                                     | 0/7601 [00:00<?, ?it/s]"
     ]
    },
    {
     "name": "stdout",
     "output_type": "stream",
     "text": [
      " tht   nhittnhi n nt it nnhninhttttihhn n i ihinh i ihh n itn thhhn th  nhi htn hi nii  h  ii hh inn  itintt tti thh  nithnihi hhn   tni hihhii      th it t h iinti   thhhhh t  iii it  h t  t tt h ih iti nhhh itt nhti hhit  thiinh nht tthh  hht hn nhhttnthi h ih ihni inh nnin tth ntt th h tnh hti n nh ihnh  t hiit ihhht  iit ii nhtn   tt hh  t   tih n  n  t itnh ihtn nninihnhihnnh i h  tnhn  nh n  h innni hiintiiinh t ihn  ihhnn hh ih n    nt itiinnnnhi hin i   iit hinin ttinn ninn nhhn nnhiniitnhh nhhhhhhnhht hhthn nth nintt hh ni hhnthhhi   h ih niinnhihii  int ihinttni h  t  i hhihhtthhnin   tthn t nhn hnii hnin n h thh tht hiit ntt  t  nhih  it th  ntn n nn tthii ntnnhnt th hhhnnhi hih iht nihhn t h n n ti iii  i n n tn  htn nhntnitiinh ni  hh  nnhh   nthnht  iin i tnhnhh t ti i  nt  t h  in  htn   ith nhn ihnhiin  h  h itniihhnhhhit n innii  tnhh iihttinn \n"
     ]
    },
    {
     "name": "stderr",
     "output_type": "stream",
     "text": [
      "epoch: 1 | train loss: 1.48452  | lr: 8.396229e-03:  26%|██████▊                   | 2000/7601 [09:33<26:15,  3.55it/s]"
     ]
    },
    {
     "name": "stdout",
     "output_type": "stream",
     "text": [
      " chiếc Quốc dân thuyết Nhà Trò nghiêm nghị làm nhà máy chân chim gáy trong làng chính phủ Quốc Hoàng Liên hoàng cho tôi người chết cho tôi được đi đâu mà đến chỗ có cái đầu chiếc đồi báo cho những người đi trong tháng ngày đã đi trong các chủ nhà chúng tôi đã thấy cái cánh đồng của nhà tôi. Nhưng chẳng bao lâu, tôi nghĩ thế, như tôi nghĩ ra đường trong làng. Thế mà cũng không có những đứa trẻ trong cái gác cái chuông trong bóng cái bè ngọn núi, chẳng bao lâu chỉ làm giác nghề nghiên chui vào trong làng những câu chuyện cũng chẳng bao giờ làm thế nào cũng là một cái thúng thấy một bà con trên cái chợ chúng tôi thì chẳng khác cái thằng đánh chuyện và thế nào? Thế mà đã nghe tiếng trống đưa đến chỗ nào cũng có những đám nhiều chiếc đá như thế này. Thằng này thì con cá mật thám được chân trời đất trong bụi cây trên trời trắng như những bóng núi vào mặt chân như thế\n"
     ]
    },
    {
     "name": "stderr",
     "output_type": "stream",
     "text": [
      "epoch: 1 | train loss: 1.42906  | lr: 4.595666e-03:  53%|█████████████▋            | 4000/7601 [19:12<17:24,  3.45it/s]"
     ]
    },
    {
     "name": "stdout",
     "output_type": "stream",
     "text": [
      "  không phải đội trưởng Cự đã đi đâu về thành phố trên thế giới cho tôi chỉ có một chiếc đòn chạy vào đây. Nhưng cái ngày trước đã thành một chuyện đất và báo cho người chết cho nhà thường trên báo Cứu Quốc vào trong làng cho được đi đâu cũng thế. Nhưng tôi đã chết như một chuyện đấy là cái thằng này thì thào thế nào được cho các cụ trong lớp trong chiến trường tiểu thuyết Thìn ngày thứ bảy như thế chứ chẳng được cái truyện ngắn Thiệp trường Yên Phục Quốc như thế, chẳng bao giờ thấy trên đường cái cho ta nghĩ ngợi thế. Tôi chỉ có một cái thư một mảng đá người ngoài cửa hang, có ngọn đèn ngoài trời đất trong bếp đã lâu. Trời đã trông thấy đi chợ cũng có thể thế nào?\n",
      "\n",
      "- Các chị trưởng thôn trong truyện ngắn Những ngày trước, tôi thường một người nào thì chết thế nào cũng là cái đuôi người. Nhưng chỉ có một người trong khi thì chẳng có tiền trong thành phố thường \n"
     ]
    },
    {
     "name": "stderr",
     "output_type": "stream",
     "text": [
      "epoch: 1 | train loss: 1.41047  | lr: 1.056644e-03:  79%|██████████████████▉     | 6000/7601 [4:49:37<07:36,  3.51it/s]"
     ]
    },
    {
     "name": "stdout",
     "output_type": "stream",
     "text": [
      " \n",
      "\n",
      "\n",
      "\n",
      "\n",
      "\n",
      "\n",
      "\n",
      "Chương Iv (4):\n",
      "\n",
      "\n",
      "\n",
      "\n",
      "\n",
      "Mục lục\n",
      "\n",
      "\n",
      ":\n",
      "\n",
      "\n",
      "\n",
      "\n",
      "\n",
      "Một thôi chuột thế nào thì chúng tôi lại thấy tôi được châu đoàn thế nào đã biết thế nào. Chú thích nghe theo địa phận cho thấy trong thành phố đã thành thói quen chơi cho đến lúc cái thuyền về truyện ngắn thịt gà của người ta vừa khác như mấy nhà cho mình được. Chẳng biết được một tiếng hát chưa?\n",
      "\n",
      "Chèo Bẻo chồng chạy lên cho nhau thế này. Đến khi đi vào nhà trong trước cái thanh lưỡi, thế mà thôi cho con người như thế. Tôi có người nhìn thấy bàn chân chiếc thùng cái chân chim thì thào như người đi làm gì?\n",
      "\n",
      "- Thế là được cho chú chuyện trên đầu trong những trận mưa rào rào ràn đi trước đấy. Những con chim đi được cái chân cánh đồng làng trong những những con chim già đã làm thế nào cũng chẳng được cái thúng cho người ta ngoài đồng. Nhưng đã thấy cái chợ đương cầu bò của tôi ngồi trên đầu cánh đồng cho chúng tôi. Tôi\n"
     ]
    },
    {
     "name": "stderr",
     "output_type": "stream",
     "text": [
      "epoch: 1 | train loss: 1.40585  | lr: 1.000000e-03: 100%|████████████████████████| 7601/7601 [4:57:12<00:00,  2.35s/it]\n"
     ]
    }
   ],
   "source": [
    "trainer.train()"
   ]
  },
  {
   "attachments": {},
   "cell_type": "markdown",
   "metadata": {},
   "source": [
    "# GPT Character Transformer model \n",
    "<img src='images/The-scaled-dot-product-attention-and-multi-head-self-attention.png' width=600>\n",
    "\n",
    "We use build a gpt like model that uses Transformer architecture. The main component is multihead self-attention which is implemented in python like so. The causal mask is to prevent network from looking ahead.\n",
    "```python\n",
    "        dk = embed_dim//n_head\n",
    "        \n",
    "        q = self.query(q).view(batch_size, sequence_len, n_head, dk).transpose(1,2) # B,nh,T,dk\n",
    "        k = self.key(k).view(batch_size, sequence_len, n_head, dk).transpose(1,2)\n",
    "        v = self.value(v).view(batch_size, sequence_len, n_head, dk).transpose(1,2)\n",
    "        # scale q and k\n",
    "        att = (q @ k.transpose(-2,-1))/(dk**0.5) # B,nh,T,dk x B,nh,dk,T -> B,nh,T,T\n",
    "        if causal is not None:\n",
    "            att = att.masked_fill(self.causal_mask == 0, float('-1e10'))\n",
    "        att = F.softmax(att, dim=-1)\n",
    "        att = self.attn_drop(att)\n",
    "        y = att @ v # B,nh,T,T x B,Nh,T,dk -> B,nh,T,dk\n",
    "        # swap n_head back to last dimension then re-assemble side by side to embed_dim\n",
    "        y = y.transpose(1,2).contiguous().view(batch_size, sequence_len, n_head*dk) \n",
    "        # output projection\n",
    "        y = self.resid_drop(self.proj(y)) # output is batch_size, sequence_len, embed_dim\n",
    "```"
   ]
  },
  {
   "cell_type": "code",
   "execution_count": 16,
   "metadata": {},
   "outputs": [],
   "source": [
    "from model.transformer import Transformer, TansformerConfig\n",
    "from utils.trainer import Trainer, TrainerConfig\n",
    "\n",
    "tconfig = TrainerConfig(max_epochs=1, \n",
    "                        batch_size=64, \n",
    "                        learning_rate=6e-4, \n",
    "                        grad_norm_clip=1.0, \n",
    "                        device='cuda',\n",
    "                        lr_decay=True, \n",
    "                        warmup_tokens=5000, \n",
    "                        ckpt_n_print_iter=2000, \n",
    "                        ckpt_path='checkpoint/transformer')\n",
    "\n",
    "mconfig = TansformerConfig(vocab_size = dataset.vocab_size,\n",
    "                      sequence_len = dataset.sequence_len,\n",
    "                      embed_dim = 256,\n",
    "                      n_block=4,\n",
    "                      n_head=8,\n",
    "                      causal=True,\n",
    "                      device = tconfig.device)"
   ]
  },
  {
   "cell_type": "code",
   "execution_count": 17,
   "metadata": {},
   "outputs": [
    {
     "name": "stderr",
     "output_type": "stream",
     "text": [
      "09/25/2021 10:19:18 - INFO - model.transformer -   number of parameters: 3.291904e+06\n"
     ]
    }
   ],
   "source": [
    "gpt = Transformer(mconfig)\n",
    "trainer = Trainer(gpt, dataset, tconfig, test_dataset=None, collate=None)"
   ]
  },
  {
   "cell_type": "code",
   "execution_count": 18,
   "metadata": {
    "scrolled": true
   },
   "outputs": [
    {
     "data": {
      "text/plain": [
       "<All keys matched successfully>"
      ]
     },
     "execution_count": 18,
     "metadata": {},
     "output_type": "execute_result"
    }
   ],
   "source": [
    "gpt.load_state_dict(pickle(tconfig.ckpt_path))"
   ]
  },
  {
   "cell_type": "code",
   "execution_count": 13,
   "metadata": {},
   "outputs": [
    {
     "name": "stderr",
     "output_type": "stream",
     "text": [
      "epoch: 1 | train loss: 0.53366  | lr: 8.160000e-06:   0%|                                    | 0/57237 [00:00<?, ?it/s]"
     ]
    },
    {
     "name": "stdout",
     "output_type": "stream",
     "text": [
      "<pad><pad><pad><pad><pad><pad><pad><pad><pad><pad><pad><pad><pad><pad><pad><pad><pad><pad><pad><pad><pad><pad><pad><pad><pad><pad><pad><pad><pad><pad><pad><pad><pad><pad><pad><pad><pad><pad><pad><pad><pad><pad><pad><pad><pad><pad><pad><pad><pad><pad><pad><pad><pad><pad><pad><pad><pad><pad><pad><pad><pad><pad><pad><pad><pad><pad><pad><pad><pad><pad><pad><pad><pad><pad><pad><pad><pad><pad><pad><pad><pad><pad><pad><pad><pad><pad><pad><pad><pad><pad><pad><pad><pad><pad><pad><pad><pad><pad><pad><pad><pad><pad><pad><pad><pad><pad><pad><pad><pad><pad><pad><pad><pad><pad><pad><pad><pad><pad><pad><pad><pad><pad><pad><pad><pad><pad><pad> [[ŒỪZ11ZZ[[ZỀŒZỪỀỀ[ZŒŒŒỪZZŒỪỪẳỪẳặMŒỪọ1ỪZ![ZZ11Z!ŒZỪỪMŒŒặ!Z[Z1ẳặMZZ![111ỪọỪM1ŒặŒMỪỪỪẳặZZ1ŒM1<pad>Ừẳ!Z<pad>MÒ<pad>M<pad>MÒỪỪ<pad>MÒuốu<pad>ú<pad>u<pad><pad><pad>ú<pad>ầ PÝ ni i  ni g    i  i n     h     i h  h   i   i    Ơ            h h     h              i  n   h   h g      i          q       h g    h i      g    n   h  n     i           h       n  n     h i  n               g    h                           n  h       h            h i      i n    h          h      h h  i i     h       g                  h        i          n         g         n  h  h                     i  h    hn  ih   hi     i        g       g       i       h             n i       h       hh  i n         h          h                    n  h       i       ih hh        gi       n   n       n               h             h g  n h          n i  g         h             h       i      n         h             g  hih   i  i hi                   i  n n  h   h    g           nh     h              hih g             g   ih           hn         i    n in      n    n   g   \n"
     ]
    },
    {
     "name": "stderr",
     "output_type": "stream",
     "text": [
      "epoch: 1 | train loss: 1.65169  | lr: 5.983184e-04:   3%|▊                      | 2000/57237 [05:12<2:21:42,  6.50it/s]"
     ]
    },
    {
     "name": "stdout",
     "output_type": "stream",
     "text": [
      "<pad><pad><pad><pad><pad><pad><pad><pad><pad><pad><pad><pad><pad><pad><pad><pad><pad><pad><pad><pad><pad><pad><pad><pad><pad><pad><pad><pad><pad><pad><pad><pad><pad><pad><pad><pad><pad><pad><pad><pad><pad><pad><pad><pad><pad><pad><pad><pad><pad><pad><pad><pad><pad><pad><pad><pad><pad><pad><pad><pad><pad><pad><pad><pad><pad><pad><pad><pad><pad><pad><pad><pad><pad><pad><pad><pad><pad><pad><pad><pad><pad><pad><pad><pad><pad><pad><pad><pad><pad><pad><pad><pad><pad><pad><pad><pad><pad><pad><pad><pad><pad><pad><pad><pad><pad><pad><pad><pad><pad><pad><pad><pad><pad><pad><pad><pad><pad><pad><pad><pad><pad><pad><pad><pad><pad><pad><pad> chươi trên trên mặt thành ngang ngày đường có chiếc được chiếc đấu chủ được nghĩa cho tôi được chúng tôi đi chơi thì tôi làm chẳng thấy tôi chẳng biết thế mà chúng tôi không có như con chim được một người ta đã biết thế. Nhưng mà chỉ có thể thấy một cái làm thế, tôi cũng đã biết cho tôi cho chúng tôi thấy tôi chỉ có thể chuyện nghĩ tôi. Một chuyện tranh nghề làm thế này chỉ có chữ thế nào cũng không biết được một chữ ngày trước chỉ có thể đến làm thế này là những chuyện nhiệu thế này. Tôi nghe chúng tôi không biết thế nào chỉ có một con chim chim về được ngày đi với tôi đã biết chúng tôi được nghĩ chúng tôi đã có lẽ chúng tôi có thể cũng được chúng tôi chỉ thấy tôi đã có người chỉ thấy tôi được chúng tôi đã thấy tôi trở về thành trong thành phố đến ngày ta đi đương trong chuột nhà người bên cái đồng đồng đồng đồng trăm chim đến tập tối trên báo như thế chủ thế này. Chẳng biết những cái chuyện cho thế mà tôi không thấy nhà trong nhà. Chúng tôi chỉ ngồi trong chiến thành phố, như tôi cũ\n"
     ]
    },
    {
     "name": "stderr",
     "output_type": "stream",
     "text": [
      "epoch: 1 | train loss: 1.52809  | lr: 5.930387e-04:   7%|█▌                     | 4000/57237 [10:24<2:17:09,  6.47it/s]"
     ]
    },
    {
     "name": "stdout",
     "output_type": "stream",
     "text": [
      "<pad><pad><pad><pad><pad><pad><pad><pad><pad><pad><pad><pad><pad><pad><pad><pad><pad><pad><pad><pad><pad><pad><pad><pad><pad><pad><pad><pad><pad><pad><pad><pad><pad><pad><pad><pad><pad><pad><pad><pad><pad><pad><pad><pad><pad><pad><pad><pad><pad><pad><pad><pad><pad><pad><pad><pad><pad><pad><pad><pad><pad><pad><pad><pad><pad><pad><pad><pad><pad><pad><pad><pad><pad><pad><pad><pad><pad><pad><pad><pad><pad><pad><pad><pad><pad><pad><pad><pad><pad><pad><pad><pad><pad><pad><pad><pad><pad><pad><pad><pad><pad><pad><pad><pad><pad><pad><pad><pad><pad><pad><pad><pad><pad><pad><pad><pad><pad><pad><pad><pad><pad><pad><pad><pad><pad><pad><pad> Thanh Hoan, Thái Mới theo tiếng trống thư tiếng gọi vào bờ rào. Những cái tiếng đồng đồng bạc như tiếng trống tre. Những con chim đá mâu trắng chân tre như tiếng chó chim chim chít đã đến chân chó chuột chui vào chiếc lá đa đi chơi chơi vào nhà mà chỉ có một cái gì đâu. Nhưng chỉ có người đi đâu cũng nghĩ lại như chuyện được cái mũi cá chuối đã thuộc trưởng tràng thuốc làm việc của Nguyễn Huy Tưởng về nhà thơ Trọng Hứa và những chuyện nghĩa viết văn hoá thơ chưa được có người con người đi được trường hoạt động đã bị đi trả tiền như cái gì cả người nhà văn thơ Trọng Hứa thì chẳng biết có cái thằng này cũng chẳng biết được được. Có khi thế nào chỉ có thế. Có lẽ thế thôi.\n",
      "\n",
      "Những người ta chẳng thể có một cái thằng cháu như con chó thằng cháu chưa biết thế nào.\n",
      "\n",
      "Chẳng phải cái gì nào tôi chỉ có người đi đâu. Tôi không có chỗ nào nữa. Cái gì đâu?\n",
      "\n",
      "- Thế thôi.\n",
      "\n",
      "- Cách nó là chúng tôi được đi đâu?\n",
      "\n",
      "- Cái gì cho tôi chỉ bị mẹ nói đánh nhau một mình đi như một con chó mày đi chợ thì nó thật ch\n"
     ]
    },
    {
     "name": "stderr",
     "output_type": "stream",
     "text": [
      "epoch: 1 | train loss: 1.46891  | lr: 5.842221e-04:  10%|██▍                    | 6000/57237 [15:35<2:11:00,  6.52it/s]"
     ]
    },
    {
     "name": "stdout",
     "output_type": "stream",
     "text": [
      "<pad><pad><pad><pad><pad><pad><pad><pad><pad><pad><pad><pad><pad><pad><pad><pad><pad><pad><pad><pad><pad><pad><pad><pad><pad><pad><pad><pad><pad><pad><pad><pad><pad><pad><pad><pad><pad><pad><pad><pad><pad><pad><pad><pad><pad><pad><pad><pad><pad><pad><pad><pad><pad><pad><pad><pad><pad><pad><pad><pad><pad><pad><pad><pad><pad><pad><pad><pad><pad><pad><pad><pad><pad><pad><pad><pad><pad><pad><pad><pad><pad><pad><pad><pad><pad><pad><pad><pad><pad><pad><pad><pad><pad><pad><pad><pad><pad><pad><pad><pad><pad><pad><pad><pad><pad><pad><pad><pad><pad><pad><pad><pad><pad><pad><pad><pad><pad><pad><pad><pad><pad><pad><pad><pad><pad><pad><pad> (194) (Tạp văn hoá Nghệ văn Nghệ viết thư trong những ngày trước 1945, tôi viết về Nguyễn Bính và Thư trong ngoài cửa hàng nước ngoài cửa hàng ngày. Tôi không thể cho tôi được nhiều thứ nam trước kia trước kia. Nguyễn Tuân cũng thường đến nơi thay thương trang nhà thơ và tôi đọc lại truyện ngắn Tô Hoài. Nguyễn Tuân cũng chẳng được đi học được cái gì cũng không có thể biết được thế. Nhưng tôi cũng chẳng có một con gà trống đất ngang ngánh được đi theo chỗ nào. Chỉ có một lần tôi có một thứ hai ba chữ nào cũng được một cái mũ nâu nâu đi theo cái đầu đồng và tiếng chuông khác hẳn. Tôi nghe tiếng trống những chiếc thuyền nước đã chuyên trời nhoáng như chiếc lá cây đa lên đầu tre lép ngóc tre. Cũng chẳng có chiếc ghế ghê gớm, chẳng biết thế nào. Trông thấy thế nào mà thấy cái chòi trong lòng đất, cái mũ trắng như thế. Cái mái chim chích nhìn chỗ này chỉ là cái chòi đá cho đến chơi đâu mà thôi. Nhưng người ta thấy thế nào cũng có người đi chơi với người ta thì đã biết cho mày đi đâu cho thằ\n"
     ]
    },
    {
     "name": "stderr",
     "output_type": "stream",
     "text": [
      "epoch: 1 | train loss: 1.41881  | lr: 5.719752e-04:  14%|███▏                   | 8000/57237 [20:48<2:00:20,  6.82it/s]"
     ]
    },
    {
     "name": "stdout",
     "output_type": "stream",
     "text": [
      "<pad><pad><pad><pad><pad><pad><pad><pad><pad><pad><pad><pad><pad><pad><pad><pad><pad><pad><pad><pad><pad><pad><pad><pad><pad><pad><pad><pad><pad><pad><pad><pad><pad><pad><pad><pad><pad><pad><pad><pad><pad><pad><pad><pad><pad><pad><pad><pad><pad><pad><pad><pad><pad><pad><pad><pad><pad><pad><pad><pad><pad><pad><pad><pad><pad><pad><pad><pad><pad><pad><pad><pad><pad><pad><pad><pad><pad><pad><pad><pad><pad><pad><pad><pad><pad><pad><pad><pad><pad><pad><pad><pad><pad><pad><pad><pad><pad><pad><pad><pad><pad><pad><pad><pad><pad><pad><pad><pad><pad><pad><pad><pad><pad><pad><pad><pad><pad><pad><pad><pad><pad><pad><pad><pad><pad><pad><pad> ờm ờ ời ơi! Truyện thiếu nghị Văn hoá Cứu Quốc Việt Nam thường viết trong thành phố Hàng Đông Dương, tôi đọc tiếp luận là thơ Trần Huyền Trân cho tôi cho tôi được đi công tác thành phố chỉ có thể là những người đã đưa tôi cho tôi chỉ thấy tôi đi đường trước kia. Nghe tiếng chân tôi chỉ cho người ta thấy người đi tìm được các thứ nhà văn hoá ở đấy cho tôi là thằng bé mà chưa được thấy chúng tôi nghe tiếng người ta nói về đấy. Nhưng tôi thường như thường cho tôi thấy một cái thư và tôi đã được đi học việc đưa tôi thường nhận thương nhà nó đã thấy chúng tôi đã được thấy nói là nó thật là đi cả. Cũng không được nói. Tôi cũng đã thấy nó chuyện thế nào. Chúng tôi ngồi trên bàn thờ bánh cháo thụng cháo cho chúng tôi. Nó đã thấy chúng tôi đi vào chùa Trầm Mai Liên. Trong khi chúng tôi đi đôi tha vào thành phố Hàng Cỏ. Thày giáo thành phố này cũng chẳng lần nào cái gì thì tôi được nhiều nhà văn nhà văn. Thày tôi cũng được thành thói quen thuộc lực lượng của anh. Nhưng cảnh được người ta, tôi c\n"
     ]
    },
    {
     "name": "stderr",
     "output_type": "stream",
     "text": [
      "epoch: 1 | train loss: 1.39204  | lr: 5.564457e-04:  17%|███▊                  | 10000/57237 [25:48<1:55:45,  6.80it/s]"
     ]
    },
    {
     "name": "stdout",
     "output_type": "stream",
     "text": [
      "<pad><pad><pad><pad><pad><pad><pad><pad><pad><pad><pad><pad><pad><pad><pad><pad><pad><pad><pad><pad><pad><pad><pad><pad><pad><pad><pad><pad><pad><pad><pad><pad><pad><pad><pad><pad><pad><pad><pad><pad><pad><pad><pad><pad><pad><pad><pad><pad><pad><pad><pad><pad><pad><pad><pad><pad><pad><pad><pad><pad><pad><pad><pad><pad><pad><pad><pad><pad><pad><pad><pad><pad><pad><pad><pad><pad><pad><pad><pad><pad><pad><pad><pad><pad><pad><pad><pad><pad><pad><pad><pad><pad><pad><pad><pad><pad><pad><pad><pad><pad><pad><pad><pad><pad><pad><pad><pad><pad><pad><pad><pad><pad><pad><pad><pad><pad><pad><pad><pad><pad><pad><pad><pad><pad><pad><pad><pad> ! ! Các cháu cháu có thể chi nhà nghe các cháu cháu đi đâu được có lẽ như thế. Các cháu có thể nghe tiếng nhịu khó khăn ngóng ngày trước có một tiếng chó ra trước mặt. Cái chó đen kịt như thế. Cái trường học đã là người thợ giặc cho người thành thói quen ngoài cầu mà nhà trong cái thành phố chỉ có mỗi người đến chỗ nào cũng được nghe tiếng hò hét thu hút tiếng như tiếng trống thúc thích trong lòng những cái thúng treo trên cái lồng chuối chuối chuối trên thành lá sen sậy. Thế là tôi thấy tôi cũng chẳng thấy tôi được thua được thua. Cũng như thế mà chúng tôi chỉ biết có một chuyện cho tôi chỉ nghe tiếng hát hát nhau. Mỗi lần trở lại những đứa trẻ con chơi với nhau, chúng tôi đương đợi các cháu trong nhà trong ngõ. Bây giờ tôi chỉ biết cái bác Thậm đã có thể thấy tôi cũng chỉ đứng lên đường trong ngõ. Thế là tôi lại nhớ những chuyện thiên hạ đã làm nhà văn thơ thâm chuột của tôi chẳng biết tôi đã thấy thế nào. Thế là tôi được cho tôi đã thấy cả người đương cùng nhau như thế. Tuy vậy, ch\n"
     ]
    },
    {
     "name": "stderr",
     "output_type": "stream",
     "text": [
      "epoch: 1 | train loss: 1.37428  | lr: 5.378211e-04:  21%|████▌                 | 12000/57237 [30:48<1:51:10,  6.78it/s]"
     ]
    },
    {
     "name": "stdout",
     "output_type": "stream",
     "text": [
      "<pad><pad><pad><pad><pad><pad><pad><pad><pad><pad><pad><pad><pad><pad><pad><pad><pad><pad><pad><pad><pad><pad><pad><pad><pad><pad><pad><pad><pad><pad><pad><pad><pad><pad><pad><pad><pad><pad><pad><pad><pad><pad><pad><pad><pad><pad><pad><pad><pad><pad><pad><pad><pad><pad><pad><pad><pad><pad><pad><pad><pad><pad><pad><pad><pad><pad><pad><pad><pad><pad><pad><pad><pad><pad><pad><pad><pad><pad><pad><pad><pad><pad><pad><pad><pad><pad><pad><pad><pad><pad><pad><pad><pad><pad><pad><pad><pad><pad><pad><pad><pad><pad><pad><pad><pad><pad><pad><pad><pad><pad><pad><pad><pad><pad><pad><pad><pad><pad><pad><pad><pad><pad><pad><pad><pad><pad><pad> ece e éo len lét nhỏ vào bếp. Chúng tôi cũng là chuyện cuối thanh thản nhiên trên đầu một chiếc chiếc thuyền lợn lửa cháy trên đầu bếp. Chúng tôi làm theo đuôi chút nước trong cổng tá và những cái thuyền lợn thả xuống chân núi đá lên mặt nước trên đầu cái lồng chim trên núi. Những con ngan tre đương chạy trong bóng núi trong cánh đồng cao làn sóng bên kia sông Cái đã ngoài kia. Người ta còn đương nghĩ đến tận đâu chuyện chiều thì đã được những con ngan trước mặt tôi. Những con ngan lại chuyện thì những con chó sủa thương thế nào, con người còn thấy một con người đương lăn xuống. Tôi cũng đến tận bây giờ. Tôi cũng chỉ nhớ được thấy có những người thanh thản nhiên được chuyện đi đâu cũng có người nhà nghèo thì chỉ nhớ. Nhưng tôi chỉ nghĩ đến một đêm nay tôi cũng chẳng bao giờ nói với ai. Tôi cũng không biết thế nào.\n",
      "\n",
      "Chẳng biết cái cô này chỉ có người này còn là con người đi học trường đại học trường tổ chức trưởng trinh được những công nhân vật của những công tác thay truyền thanh niên\n"
     ]
    },
    {
     "name": "stderr",
     "output_type": "stream",
     "text": [
      "epoch: 1 | train loss: 1.34522  | lr: 5.163261e-04:  24%|█████▍                | 14000/57237 [35:47<1:46:05,  6.79it/s]"
     ]
    },
    {
     "name": "stdout",
     "output_type": "stream",
     "text": [
      "<pad><pad><pad><pad><pad><pad><pad><pad><pad><pad><pad><pad><pad><pad><pad><pad><pad><pad><pad><pad><pad><pad><pad><pad><pad><pad><pad><pad><pad><pad><pad><pad><pad><pad><pad><pad><pad><pad><pad><pad><pad><pad><pad><pad><pad><pad><pad><pad><pad><pad><pad><pad><pad><pad><pad><pad><pad><pad><pad><pad><pad><pad><pad><pad><pad><pad><pad><pad><pad><pad><pad><pad><pad><pad><pad><pad><pad><pad><pad><pad><pad><pad><pad><pad><pad><pad><pad><pad><pad><pad><pad><pad><pad><pad><pad><pad><pad><pad><pad><pad><pad><pad><pad><pad><pad><pad><pad><pad><pad><pad><pad><pad><pad><pad><pad><pad><pad><pad><pad><pad><pad><pad><pad><pad><pad><pad><pad> eo eo lên: \"Biết thế nào mà không còn nữa. Mà chưa thấy thế nào mà tôi biết được nữa. Bao giờ tôi cũng chưa được đi tìm đám người tranh thế nào.\n",
      "\n",
      "Nhưng tôi không trả lời những thứ nhất định và cảm tưởng chúng tôi nghĩ thế, tôi cũng đã chui vào một ngày đầu tiên của người nghiệp của một chú thuốc phiện. Cái thư của chị ấy cũng là thư tình hình như thường của những trong thơ thiên hạ như thế. Cái truyện ngắn của Nguyễn Tuân chỉ có một thơ của tôi được một ngày nay. Có những câu thơ trong thơ trong truyện ngắn Nước thơ Trần Huyền Trân cho tôi đã lâu. Tôi đi chơi nhiều người đi làm thơ với anh trên báo Cứu Quốc. Tôi nhớ trong bài học Trần Quốc Vân, anh thuê trong thành phố Hàng Bạc, chỉ có một báo động được tin tức cho tôi những truyện ngắn Nước mắt trong thành phố có thể thôi thế. Trong những năm sau, trong những người có nhà xuất bản nào cũng đều có thể có một câu như chưa chắc có cái nhà của đội trưởng nào. Người ta bảo trước chúng tôi đi chợ Bưởi trước kia có câu nghĩ đến mình được cá\n"
     ]
    },
    {
     "name": "stderr",
     "output_type": "stream",
     "text": [
      "epoch: 1 | train loss: 1.32863  | lr: 4.922075e-04:  28%|██████▏               | 16002/57237 [40:50<8:54:33,  1.29it/s]"
     ]
    },
    {
     "name": "stdout",
     "output_type": "stream",
     "text": [
      "<pad><pad><pad><pad><pad><pad><pad><pad><pad><pad><pad><pad><pad><pad><pad><pad><pad><pad><pad><pad><pad><pad><pad><pad><pad><pad><pad><pad><pad><pad><pad><pad><pad><pad><pad><pad><pad><pad><pad><pad><pad><pad><pad><pad><pad><pad><pad><pad><pad><pad><pad><pad><pad><pad><pad><pad><pad><pad><pad><pad><pad><pad><pad><pad><pad><pad><pad><pad><pad><pad><pad><pad><pad><pad><pad><pad><pad><pad><pad><pad><pad><pad><pad><pad><pad><pad><pad><pad><pad><pad><pad><pad><pad><pad><pad><pad><pad><pad><pad><pad><pad><pad><pad><pad><pad><pad><pad><pad><pad><pad><pad><pad><pad><pad><pad><pad><pad><pad><pad><pad><pad><pad><pad><pad><pad><pad><pad> ánáo áo nâu non một câu thâm. Tôi chưa để ý thấy cái điếu cái gì thế. Có người thì chết thôi. Nghe chuyện cũng nghe chuyện thế. Chuyện thật tôi nghĩ ngợi lại những chuyện về làng tôi ngồi xuống chợ Đồng Xuân trên tỉnh đền Tam Đảo và những cái đó của người các cõi đã lâu thì trong tiếng nhạc nhiên đã trở lại chuyện thần trò chuyện trên đầu chợ Nà Giàng về. Chẳng biết làm thế nào. Tôi chỉ trông thấy có thế thôi. Tôi đã biết thế nào. Tôi chỉ thấy cô Muỗi nhớ một người nhà trong thành phố được thấy đương nhớ, người ta nói thế nào, tôi đã đi được nghỉ hưu thế nào. Nhưng cũng không phải thế nào để thằng này đi đâu. Nhưng tôi chỉ đi tìm cái đầu lâu ngày trước thằng chim thế này mà. Chúng tôi chỉ biết đâu có thằng bé nó bảo thế. Chúng tôi bảo chúng tôi mất cả cái trong nhà thầy. Chúng tôi bảo thầy chúng ta đi theo chúng tôi. Tôi chưa biết thế nào nhà tôi đã đi tìm được nhà máy thầy đồ đạc của chúng tôi. Trong thầy giáo tôi cũng đã nhiều người đi làm đồng chí Tú Mỡ. Có lẽ trong làng này cũng c\n"
     ]
    },
    {
     "name": "stderr",
     "output_type": "stream",
     "text": [
      "epoch: 1 | train loss: 1.30779  | lr: 4.657942e-04:  31%|██████▉               | 18000/57237 [45:46<1:36:11,  6.80it/s]"
     ]
    },
    {
     "name": "stdout",
     "output_type": "stream",
     "text": [
      "<pad><pad><pad><pad><pad><pad><pad><pad><pad><pad><pad><pad><pad><pad><pad><pad><pad><pad><pad><pad><pad><pad><pad><pad><pad><pad><pad><pad><pad><pad><pad><pad><pad><pad><pad><pad><pad><pad><pad><pad><pad><pad><pad><pad><pad><pad><pad><pad><pad><pad><pad><pad><pad><pad><pad><pad><pad><pad><pad><pad><pad><pad><pad><pad><pad><pad><pad><pad><pad><pad><pad><pad><pad><pad><pad><pad><pad><pad><pad><pad><pad><pad><pad><pad><pad><pad><pad><pad><pad><pad><pad><pad><pad><pad><pad><pad><pad><pad><pad><pad><pad><pad><pad><pad><pad><pad><pad><pad><pad><pad><pad><pad><pad><pad><pad><pad><pad><pad><pad><pad><pad><pad><pad><pad><pad><pad><pad> me me bánh xe đạp, thuốc cho những chiếc xe đạp chiếu mộc chiếc thuyền thủ thuyền của những công trường hợp tác xã được đi chợ chiến tranh thế giới đại hội thi với các cô đầu. Nhưng cô gái đi làm chủ tịch trường thu phố được thành phố này là thiếu nhi nhi thần thánh thành. Đến lúc thì chỉ có những người đi đường trong chợ có những điều tra trí thức ăn thôi. Chúng tôi chỉ biết đến một nhánh sáng như thế. Chúng tôi được nghe tin chúng tôi, tiếng thúc giục giã các thứ sách báo hiệu của tôi cũng chẳng có tiếng hát động của tôi, tôi chỉ để trong cái thú vị trưởng thôn thôn của Trần Đăng đã làm được cho tôi được nhiều truyện ngắn của tôi viết cho Trần Huyền Trân. Tôi đã thấy có thể có những người chết như thế nào.\n",
      "\n",
      "Những khi nhớ cái nhà báo Tiểu thuyết Thứ bảy, tôi thường trực tiếp theo tôi trong truyện ngắn Nước lên tàu chạy trong nhà xuất bản Tân Dân chủ Thìn thành phố cũ và chúng tôi chỉ có một thời kỳ ấy như thường như thường như thường. Cái truyện ngắn của Nguyễn Tuân thì chẳng khi nào\n"
     ]
    },
    {
     "name": "stderr",
     "output_type": "stream",
     "text": [
      "epoch: 1 | train loss: 1.31518  | lr: 4.373527e-04:  35%|███████▋              | 20002/57237 [50:49<7:59:50,  1.29it/s]"
     ]
    },
    {
     "name": "stdout",
     "output_type": "stream",
     "text": [
      "<pad><pad><pad><pad><pad><pad><pad><pad><pad><pad><pad><pad><pad><pad><pad><pad><pad><pad><pad><pad><pad><pad><pad><pad><pad><pad><pad><pad><pad><pad><pad><pad><pad><pad><pad><pad><pad><pad><pad><pad><pad><pad><pad><pad><pad><pad><pad><pad><pad><pad><pad><pad><pad><pad><pad><pad><pad><pad><pad><pad><pad><pad><pad><pad><pad><pad><pad><pad><pad><pad><pad><pad><pad><pad><pad><pad><pad><pad><pad><pad><pad><pad><pad><pad><pad><pad><pad><pad><pad><pad><pad><pad><pad><pad><pad><pad><pad><pad><pad><pad><pad><pad><pad><pad><pad><pad><pad><pad><pad><pad><pad><pad><pad><pad><pad><pad><pad><pad><pad><pad><pad><pad><pad><pad><pad><pad><pad> o oe oe, éo thêm theo lưng lên cái chăn dạ tre.\n",
      "\n",
      "Chúng tôi ngồi xuống chiếc xép đầu cái tre chiếc lá chuối đựng thuốc cho thuốc trôi suối. Người đàn bà ngồi chơi trên chợ một chợ. Bà tôi chỉ nhìn tôi, nhưng cũng chẳng biết người ta đương thấy tôi.\n",
      "\n",
      "Bà ngoại tôi chưa biết có cái thúng treo những bụi cây chuối cho con gái chuyện thơm thoảng thả trong bụi cây ngâu đêm nghe tiếng nước đã thấy đâu đâu có tiếng hò hét tiếng hò reo tiếng hò hét vang tiếng hò hét tiếng chân người đàn bà ngồi xuống trước mặt cái cổ. Chúng nó đã đi tìm nơi. Người ta thấy đường đất chỗ nào cũng có người ta nghe tiếng như tiếng trống đồng ra chỗ cái cầu ao có thể đứng trông thấy được cả một chỗ che tàu điện cho chúng tôi. Thế là tôi đã thấy trong làng có thể nghĩ đến chơi chứa được đi tìm cách mạng. Chúng tôi trở về đường thôn Chuôm chạy ra. Chỉ có một cái nhà máy chữ này đã được thấy được những cái chữ thế nào thì chắc cũng chưa đi học thì chỉ có một con chó đánh đuổi chó, chó nhà chịu khó đem về thì chết trong \n"
     ]
    },
    {
     "name": "stderr",
     "output_type": "stream",
     "text": [
      "epoch: 1 | train loss: 1.29117  | lr: 4.072824e-04:  38%|████████▍             | 22000/57237 [55:44<1:26:24,  6.80it/s]"
     ]
    },
    {
     "name": "stdout",
     "output_type": "stream",
     "text": [
      "<pad><pad><pad><pad><pad><pad><pad><pad><pad><pad><pad><pad><pad><pad><pad><pad><pad><pad><pad><pad><pad><pad><pad><pad><pad><pad><pad><pad><pad><pad><pad><pad><pad><pad><pad><pad><pad><pad><pad><pad><pad><pad><pad><pad><pad><pad><pad><pad><pad><pad><pad><pad><pad><pad><pad><pad><pad><pad><pad><pad><pad><pad><pad><pad><pad><pad><pad><pad><pad><pad><pad><pad><pad><pad><pad><pad><pad><pad><pad><pad><pad><pad><pad><pad><pad><pad><pad><pad><pad><pad><pad><pad><pad><pad><pad><pad><pad><pad><pad><pad><pad><pad><pad><pad><pad><pad><pad><pad><pad><pad><pad><pad><pad><pad><pad><pad><pad><pad><pad><pad><pad><pad><pad><pad><pad><pad><pad> m-m-noe - gạo một cái bút ký Phở Thọ. Cái chí chính trị của Pháp của Thanh Hoá, báo Cứu Quốc Việt Bắc, nhà xuất bản Tân Dân chủ Thông đã làm việc trong những truyện ngắn Nước lên trên báo Cứu Quốc của Tổng thường của Nguyễn Tuân đã thuộc cả nước cho một cách riêng của tôi trong báo Tiểu thuyết thứ bảy, người nói lại về làng xóm và chiều nay thì tôi cũng như chiêm bao giờ. Tôi cũng thấy người đi chơi với các bạn đi đánh đuổi đánh nhau chơi cánh đồng chí đã đi trước ngồi đấy.\n",
      "\n",
      "Tôi ngồi nhà bàn thờ trước mặt tôi. Thế là tôi đã bảo tôi biết tôi đã có những cái nhà giáo chẳng biết ngày nào có thể nghĩ tới nay là cái thằng tư Nhỡ. Chúng tôi cũng chẳng để ý những cái gì cũng có thể nhớ cái thằng bán dầu chẳng bao giờ biết thằng bán dầu cũng thế nào cũng có thể tưởng tượng được đấy. Cái thằng chó thì chết thôi. Nó là cái gì cũng là chú chim sẻ như thế. Nó thì chết rồi.\n",
      "\n",
      "Nó chạy về đến tận bây giờ. Nó lại chạy ra bến Bỏi lại chạy về nhà. Nó chạy trong nhà nó chạy theo. Nhưng cũng chẳng bao giờ\n"
     ]
    },
    {
     "name": "stderr",
     "output_type": "stream",
     "text": [
      "epoch: 1 | train loss: 1.28088  | lr: 3.758868e-04:  42%|████████▍           | 24002/57237 [1:00:47<7:09:12,  1.29it/s]"
     ]
    },
    {
     "name": "stdout",
     "output_type": "stream",
     "text": [
      "<pad><pad><pad><pad><pad><pad><pad><pad><pad><pad><pad><pad><pad><pad><pad><pad><pad><pad><pad><pad><pad><pad><pad><pad><pad><pad><pad><pad><pad><pad><pad><pad><pad><pad><pad><pad><pad><pad><pad><pad><pad><pad><pad><pad><pad><pad><pad><pad><pad><pad><pad><pad><pad><pad><pad><pad><pad><pad><pad><pad><pad><pad><pad><pad><pad><pad><pad><pad><pad><pad><pad><pad><pad><pad><pad><pad><pad><pad><pad><pad><pad><pad><pad><pad><pad><pad><pad><pad><pad><pad><pad><pad><pad><pad><pad><pad><pad><pad><pad><pad><pad><pad><pad><pad><pad><pad><pad><pad><pad><pad><pad><pad><pad><pad><pad><pad><pad><pad><pad><pad><pad><pad><pad><pad><pad><pad><pad> o o fo fongouc trên bờ hồ Trúc, một con chó, một tay thì nó đã thấy con chó thì chó đánh chết trong cái tròng xoan thì làm cho đến lúc cả trăm cái chục đất cũng chỉ còn ngồi nghe tiếng người reo à à. Chúng nó nghe tiếng trống thúc thít cả ra ngoài cửa.\n",
      "\n",
      "Trong chòi canh, những chiếc thuyền nhỏ bé nhỏ như con chim biển đằng sau nhà. Những con chim đã lại đương lúi húi trong cánh đồng. Trên chiếc thuyền ngược đương thuyền này đương nghe tiếng nước trông ra tiếng gió đu đâu đâu cũng có tiếng gọi người đi trước. Tiếng gọi là tiếng trống rền rĩ trong tiếng gọi thành tiếng trống rền rĩ. Nhưng không phải tiếng chân người ta cũng không biết. Người ta nói thế. Nhưng có thể nghĩ ra cái chuyện có thể nghĩ đến nỗi nhớ nghiệp nước nào cũng thế, chẳng còn có thể có thể được thấy người con gái nhà nghe ngoài cái nhà thổi cơm thi đó được như cái chuyến chào lên nhà chào mào được. Nguyên Hồng cười hiền lành: Nhà tôi có nhà chùa thì chỉ có một trận đòn hay một chữ cho tôi biết chữ nghĩa cho chúng tôi đã\n"
     ]
    },
    {
     "name": "stderr",
     "output_type": "stream",
     "text": [
      "epoch: 1 | train loss: 1.26830  | lr: 3.436069e-04:  45%|█████████           | 26000/57237 [1:05:43<1:18:09,  6.66it/s]"
     ]
    },
    {
     "name": "stdout",
     "output_type": "stream",
     "text": [
      "<pad><pad><pad><pad><pad><pad><pad><pad><pad><pad><pad><pad><pad><pad><pad><pad><pad><pad><pad><pad><pad><pad><pad><pad><pad><pad><pad><pad><pad><pad><pad><pad><pad><pad><pad><pad><pad><pad><pad><pad><pad><pad><pad><pad><pad><pad><pad><pad><pad><pad><pad><pad><pad><pad><pad><pad><pad><pad><pad><pad><pad><pad><pad><pad><pad><pad><pad><pad><pad><pad><pad><pad><pad><pad><pad><pad><pad><pad><pad><pad><pad><pad><pad><pad><pad><pad><pad><pad><pad><pad><pad><pad><pad><pad><pad><pad><pad><pad><pad><pad><pad><pad><pad><pad><pad><pad><pad><pad><pad><pad><pad><pad><pad><pad><pad><pad><pad><pad><pad><pad><pad><pad><pad><pad><pad><pad><pad> !! ! Tôi đánh chén chén mày!\n",
      "\n",
      "Tôi lại nói \"chịu khó và làm gì\". Tôi chỉ là nghề văn công nghiệp thì tôi được thưởng thức giấy tờ trong cái đầu trọc trò chuyện ngày trước. Nhưng cũng chỉ là một chữ \"nghĩa thầy giáo tôi chưa biết tiếng Pháp thế nào, những truyện ngắn của tôi chưa thấy tôi nghĩ đến đâu đến thế\". Tôi chưa hiểu tình cờ đã biết thế nào, tôi không biết. Tôi cũng không biết những thế nào được nữa.\n",
      "\n",
      "Tôi đã biết từ năm này tôi trở về. Tôi đã được thảo trông thấy tôi vào trong cái nhà thống lý lịch từ đây, nhà tôi có cái gì cũng có thể thôi. Chúng tôi chỉ có thế. Tôi chỉ biết có một thương một lần thì đến trước cái thế này.\n",
      "\n",
      "Cái thằng đội trưởng Cự đã làm người thế, tôi cũng không thể ngờ ngợ chỉ có những chuyện đã thành công trình bày biện chứng kiến trúc thì tôi đã được nghe tiếng gió đấy là tiếng gọi đàn em mà nào cũng có tiếng thở dài như tiếng chuyện tôi chưa hẳn hoi. Tôi thì thào chúng nó chết ngay từ đầu đến đâu tôi đã nhiều. Tôi chẳng biết thế nào đến nhà tôi có người ch\n"
     ]
    },
    {
     "name": "stderr",
     "output_type": "stream",
     "text": [
      "epoch: 1 | train loss: 1.26002  | lr: 3.107683e-04:  49%|█████████▊          | 28002/57237 [1:10:46<6:17:51,  1.29it/s]"
     ]
    },
    {
     "name": "stdout",
     "output_type": "stream",
     "text": [
      "<pad><pad><pad><pad><pad><pad><pad><pad><pad><pad><pad><pad><pad><pad><pad><pad><pad><pad><pad><pad><pad><pad><pad><pad><pad><pad><pad><pad><pad><pad><pad><pad><pad><pad><pad><pad><pad><pad><pad><pad><pad><pad><pad><pad><pad><pad><pad><pad><pad><pad><pad><pad><pad><pad><pad><pad><pad><pad><pad><pad><pad><pad><pad><pad><pad><pad><pad><pad><pad><pad><pad><pad><pad><pad><pad><pad><pad><pad><pad><pad><pad><pad><pad><pad><pad><pad><pad><pad><pad><pad><pad><pad><pad><pad><pad><pad><pad><pad><pad><pad><pad><pad><pad><pad><pad><pad><pad><pad><pad><pad><pad><pad><pad><pad><pad><pad><pad><pad><pad><pad><pad><pad><pad><pad><pad><pad><pad> ! ! E! Mày là thằng này đừng nó thế ! Thằng bán dầu thì tôi bảo là có nhiều đứa nào đi đâu mà chết. Thế là tôi cũng được đi đâu ?\n",
      "\n",
      "Chúng tôi đi chợ chiều thì tôi biết thế nào cũng chẳng biết thế nào. Tôi có cảm tưởng thế nào cũng không thể đi được. Nhưng chỉ là nơi nào cũng có thể tưởng tượng ra được như thế nào cũng có người đi đâu. Mà đi đâu cũng có lẽ thế. Chỉ có thể nhớ đến một ngày đường xuôi ngược thôi. Có người thì tôi cũng không biết có người đàn bà ngoại tôi thấy chim gáy nữa, có cả người đàn bà con trong nhà chú Tưởng thấy cái gia đình trong thành phố chỉ có một cái chuông bán thuốc phiện được nghiệp đến một cái thuốc lá chuối đã làm thành cái chuông trâu thì thào với người ta như chuột chù chuột nhắt lắm, nhưng cũng chẳng có được nghĩa gì cả. Nhưng tôi cũng không chỉ nhớ thương tôi nhớ một cái lần nào được thế. Cái thằng bé bị bắt đi đâu thì chết chứ đâu. Tôi cũng ngại đi chơi chơi thôi. Cái chợ thì cái ngôn nhà thống lý thú thích tôi đã bị trận đòn giá ngoạm nước ngoài đườ\n"
     ]
    },
    {
     "name": "stderr",
     "output_type": "stream",
     "text": [
      "epoch: 1 | train loss: 1.26145  | lr: 2.778161e-04:  52%|██████████▍         | 30002/57237 [1:15:45<5:50:49,  1.29it/s]"
     ]
    },
    {
     "name": "stdout",
     "output_type": "stream",
     "text": [
      "<pad><pad><pad><pad><pad><pad><pad><pad><pad><pad><pad><pad><pad><pad><pad><pad><pad><pad><pad><pad><pad><pad><pad><pad><pad><pad><pad><pad><pad><pad><pad><pad><pad><pad><pad><pad><pad><pad><pad><pad><pad><pad><pad><pad><pad><pad><pad><pad><pad><pad><pad><pad><pad><pad><pad><pad><pad><pad><pad><pad><pad><pad><pad><pad><pad><pad><pad><pad><pad><pad><pad><pad><pad><pad><pad><pad><pad><pad><pad><pad><pad><pad><pad><pad><pad><pad><pad><pad><pad><pad><pad><pad><pad><pad><pad><pad><pad><pad><pad><pad><pad><pad><pad><pad><pad><pad><pad><pad><pad><pad><pad><pad><pad><pad><pad><pad><pad><pad><pad><pad><pad><pad><pad><pad><pad><pad><pad> o o o me, áo the dài thâm thì đi liệt với thằng địa. Tôi đi tìm cái chăn vịt nhà thằng này. Tôi đi đâu cũng chẳng có gì.\n",
      "\n",
      "Tôi nói thế nào cho tôi đi đâu. Tôi nghĩ ra thế thì chẳng biết thế nào. Tôi chỉ biết nói lại thế thôi.\n",
      "\n",
      "- Thế thì tôi đi đâu chứ.\n",
      "\n",
      "Tôi nhớ những câu hỏi thế nào cũng có cái thằng bán dầu thế kia, chẳng biết thế nào, tôi cũng có cái thằng cu con cu nhà mình đi chơi nhà nó đi, chỉ có cái đầu trọc thì chẳng biết trong chuyện này có thể tưởng tượng và cũng không có thể đủ thức được cái thằng con nhà thằng người đi chơi với thằng Tây này. Có lẽ chỉ có cái thằng Tây nó chỉ thấy thằng Tây đã đánh thằng Tây chết đói thôi. Thế là tôi đã được đi ngay ở đâu rồi. Tôi cứ đi đâu về thì tôi lại đi đâu về. Tôi đi chơi với các anh chàng chị em bên cạnh bãi cỏ tranh đấy. Chỉ có một mình tôi nhớ. Tôi thương với anh thì cũng như những điều tôi trả lời thế nào. Tôi chưa biết thành phố này đương đi chơi chỗ nào đâu, nhưng cũng chẳng thấy ai. Chẳng bao lâu đã thấy ai nhớ đến một buổi sán\n"
     ]
    },
    {
     "name": "stderr",
     "output_type": "stream",
     "text": [
      "epoch: 1 | train loss: 1.25118  | lr: 2.451478e-04:  56%|███████████▏        | 32000/57237 [1:20:40<1:01:43,  6.81it/s]"
     ]
    },
    {
     "name": "stdout",
     "output_type": "stream",
     "text": [
      "<pad><pad><pad><pad><pad><pad><pad><pad><pad><pad><pad><pad><pad><pad><pad><pad><pad><pad><pad><pad><pad><pad><pad><pad><pad><pad><pad><pad><pad><pad><pad><pad><pad><pad><pad><pad><pad><pad><pad><pad><pad><pad><pad><pad><pad><pad><pad><pad><pad><pad><pad><pad><pad><pad><pad><pad><pad><pad><pad><pad><pad><pad><pad><pad><pad><pad><pad><pad><pad><pad><pad><pad><pad><pad><pad><pad><pad><pad><pad><pad><pad><pad><pad><pad><pad><pad><pad><pad><pad><pad><pad><pad><pad><pad><pad><pad><pad><pad><pad><pad><pad><pad><pad><pad><pad><pad><pad><pad><pad><pad><pad><pad><pad><pad><pad><pad><pad><pad><pad><pad><pad><pad><pad><pad><pad><pad><pad> m!. ừ! Ngoe ! Tiếng trống tiếng hót vang động tiếng trống trong cả tiếng nước thở dài. Những con trai cũng chẳng biết thế nào có thể chết. Ngày nào cũng đến mùa hè mà chưa có mưa rào đến thế này, chưa có thể bắt được cái thằng cha cho con nào có được chứ không phải là thằng nào. Thằng bán dầu chẳng có đâu. Thằng cha cho tôi đi học thì thầy giáo cũng chẳng thiếu chuyện gì. Nhưng mà cũng chẳng thiếu người ta có thể có cái thằng tư Nhỡ đi đâu. Tôi cũng không nghĩ đến những ngày chủ nhà tôi đã có tiệc hết được nhiều cơ quan, có thể là người thì chẳng biết nhà nào có cái thằng bán dầu chỉ có cái thằng để cho chúng nó đánh thằng cháu nghèo nhất chúng nó được một cái. Chúng tôi đã thuộc cái thằng bán dầu trong thành phố chỉ có một người con gái nhà thổ. Nhà nào cũng thế. Chúng tôi chỉ biết thế là chúng tôi cũng chỉ là những chuyện tình cờ đâu mà thôi.\n",
      "\n",
      "Trũi ngẩn ngơ, trông thấy mặt những tiếng kêu khóc của người ta chửi nhau, chửi người nhau, chửi nhau chửi thế nào cũng được. Trũi chửi cho c\n"
     ]
    },
    {
     "name": "stderr",
     "output_type": "stream",
     "text": [
      "epoch: 1 | train loss: 1.23454  | lr: 2.131251e-04:  59%|███████████▉        | 34000/57237 [1:25:40<1:00:12,  6.43it/s]"
     ]
    },
    {
     "name": "stdout",
     "output_type": "stream",
     "text": [
      "<pad><pad><pad><pad><pad><pad><pad><pad><pad><pad><pad><pad><pad><pad><pad><pad><pad><pad><pad><pad><pad><pad><pad><pad><pad><pad><pad><pad><pad><pad><pad><pad><pad><pad><pad><pad><pad><pad><pad><pad><pad><pad><pad><pad><pad><pad><pad><pad><pad><pad><pad><pad><pad><pad><pad><pad><pad><pad><pad><pad><pad><pad><pad><pad><pad><pad><pad><pad><pad><pad><pad><pad><pad><pad><pad><pad><pad><pad><pad><pad><pad><pad><pad><pad><pad><pad><pad><pad><pad><pad><pad><pad><pad><pad><pad><pad><pad><pad><pad><pad><pad><pad><pad><pad><pad><pad><pad><pad><pad><pad><pad><pad><pad><pad><pad><pad><pad><pad><pad><pad><pad><pad><pad><pad><pad><pad><pad> o o méo me. Tôi chỉ ngồi thấy thế, như cái chuôi thôi. Thế là tôi đi ngắm nghía rồi. Người ta như cái đầu tóc như cái chân chúng tôi. Cái chân trước cửa hàng cho chúng tôi đứng ngoài cửa. Người ta chỉ biết thế thôi, người ta chỉ cười khà khà khà khà rồi. Tôi cũng nghĩ thêm một cái chuyện đang nhớ thương ngày trước. Cán bộ thế nào cũng chẳng thiếu người nào trở về chơi thì người ta chỉ ngồi nghe chuyện nhà ông chánh Rụy cũng đã đi như thế. Chỉ có người nhà máy bay Mỹ thì bà Cam đã được cho tôi nhà này được trả lời cho tôi đọc bài báo thời kỳ ấy. Tôi có cảm tưởng như thế nào.\n",
      "\n",
      "Tôi đã được thấy cái nghề viết văn của Nguyễn Huy Tưởng và tôi đương làm việc với tôi. Tôi nhớ những ngày ấy, tôi cũng không thấy Nguyễn Huy Tưởng. Nguyễn Huy Tưởng vốn không chịu được nghe tiếng hát đi vào trong tiếng trống cái chết một chuyện ngày trước ở nhà chồng chất cao nhất, chúng tôi chỉ biết được chuyện cho chúng tôi một chuyện trong các thứ ba của tôi. Tôi không hiểu tại sao, tại sao những trận mưa rào đ\n"
     ]
    },
    {
     "name": "stderr",
     "output_type": "stream",
     "text": [
      "epoch: 1 | train loss: 1.23490  | lr: 1.821358e-04:  63%|████████████▌       | 36002/57237 [1:30:43<4:34:19,  1.29it/s]"
     ]
    },
    {
     "name": "stdout",
     "output_type": "stream",
     "text": [
      "<pad><pad><pad><pad><pad><pad><pad><pad><pad><pad><pad><pad><pad><pad><pad><pad><pad><pad><pad><pad><pad><pad><pad><pad><pad><pad><pad><pad><pad><pad><pad><pad><pad><pad><pad><pad><pad><pad><pad><pad><pad><pad><pad><pad><pad><pad><pad><pad><pad><pad><pad><pad><pad><pad><pad><pad><pad><pad><pad><pad><pad><pad><pad><pad><pad><pad><pad><pad><pad><pad><pad><pad><pad><pad><pad><pad><pad><pad><pad><pad><pad><pad><pad><pad><pad><pad><pad><pad><pad><pad><pad><pad><pad><pad><pad><pad><pad><pad><pad><pad><pad><pad><pad><pad><pad><pad><pad><pad><pad><pad><pad><pad><pad><pad><pad><pad><pad><pad><pad><pad><pad><pad><pad><pad><pad><pad><pad> m o ooe. Một tay ngắn, một tay thoát lên mặt tôi, nghiêm nghịch ngợm. Chúng tôi lại chân trong lòng mong mỏi, như cái bóng chim cũng đủ thức. Chúng tôi lại thích nhau đi đâu, thì chúng tôi cũng không có người.\n",
      "\n",
      "Chúng tôi đến chơi với thằng Chích Chòe ngó ngày trước thằng Tây ngày xưa nay có người đi học trường học và đi đường tàu điện đã đến đất nước ngoài có thể nghi ngút nào cũng như được một chuyên đi đâu. Có người đến làm cho thì có những chuyện cho cái thằng con này thì con chỉ biết trẻ con đã đi tìm thấy mình người ta đi tìm con được một cái. Thế là chúng nó đi đâu, đi ngủ thì chúng nó cũng chỉ có một mình. Mon nghĩ: chúng mày chẳng có gì cả. Mon nghĩ: chúng mày đi đâu đi đâu ? Mon thấy bố mẹ và em gấu con trăn trên mình đâu rồi. Mon đến nhìn ra đây tìm Mon. Mon trông thấy một hai con gấu cứ ngồi trên nóc tủ hồ. Gấu anh đã đi theo những con gấu chạy vào đấy. Trên bờ biển đằng kia, những con gấu con theo chân đứng như hai con gấu đã trông thấy những con gấu con nằm nghiêng mắt rồ\n"
     ]
    },
    {
     "name": "stderr",
     "output_type": "stream",
     "text": [
      "epoch: 1 | train loss: 1.23180  | lr: 1.525991e-04:  66%|██████████████▌       | 38000/57237 [1:35:39<47:12,  6.79it/s]"
     ]
    },
    {
     "name": "stdout",
     "output_type": "stream",
     "text": [
      "<pad><pad><pad><pad><pad><pad><pad><pad><pad><pad><pad><pad><pad><pad><pad><pad><pad><pad><pad><pad><pad><pad><pad><pad><pad><pad><pad><pad><pad><pad><pad><pad><pad><pad><pad><pad><pad><pad><pad><pad><pad><pad><pad><pad><pad><pad><pad><pad><pad><pad><pad><pad><pad><pad><pad><pad><pad><pad><pad><pad><pad><pad><pad><pad><pad><pad><pad><pad><pad><pad><pad><pad><pad><pad><pad><pad><pad><pad><pad><pad><pad><pad><pad><pad><pad><pad><pad><pad><pad><pad><pad><pad><pad><pad><pad><pad><pad><pad><pad><pad><pad><pad><pad><pad><pad><pad><pad><pad><pad><pad><pad><pad><pad><pad><pad><pad><pad><pad><pad><pad><pad><pad><pad><pad><pad><pad><pad> m oe oeoe... tôi lại vào... Thầy giáo Câu... Thầy giáo tôi đi chơi đâu đi.\n",
      "\n",
      "- Thầy giáo Câu cũng đi giết tôi chứ. Thầy giáo chỉ là thầy giáo tôi cho tôi nghe.\n",
      "\n",
      "- Cái gì thế?\n",
      "\n",
      "- Chứ thế nào?\n",
      "\n",
      "- Cái gì cho chúng tôi có cái cớ gì không?\n",
      "\n",
      "Tôi không biết.\n",
      "\n",
      "- Chúng bay biết chúng mày đi đâu.\n",
      "\n",
      "- Chúng mày chửi cho chúng mày chửi bới mày rồi?\n",
      "\n",
      "- Tao có thuốc cho mày đi đâu ?\n",
      "\n",
      "- Đi đâu ?\n",
      "\n",
      "- Thuốc lá ngót hay thuốc lá.\n",
      "\n",
      "- Tao cho chúng mày ăn cháo gà.\n",
      "\n",
      "- Cháu chỉ làm thế thôi. Cháu đi tìm các con.\n",
      "\n",
      "- Cháu còn biết ngay đây.\n",
      "\n",
      "- Tao chỉ là con mẹ con thôi.\n",
      "\n",
      "- Con nói như con mẹ thế nào nữa.\n",
      "\n",
      "- Đi đâu?\n",
      "\n",
      "- Biết đâu rồi.\n",
      "\n",
      "- Tao chẳng có cái gì không?\n",
      "\n",
      "- Tao chỉ biết.\n",
      "\n",
      "- Không biết chữ nghĩa là thế nào. Chúng mày đi đâu?\n",
      "\n",
      "- Không, chỉ có mày có thể nói được như thế.\n",
      "\n",
      "- Trưa nay chỉ có những đường đi đâu mà có thể đi học được.\n",
      "\n",
      "- Thế thì chết thôi.\n",
      "\n",
      "- Thế là thế nào?\n",
      "\n",
      "- Chết đi đâu?\n",
      "\n",
      "- Chết thì chết rồi.\n",
      "\n",
      "- Chết đi!\n",
      "\n",
      "- Nó đi chơi đâu?\n",
      "\n",
      "- Không biết.\n",
      "\n",
      "- Chết thật thế nào, chết đi!\n",
      "\n",
      "- Chết đi! Lại đi đâ\n"
     ]
    },
    {
     "name": "stderr",
     "output_type": "stream",
     "text": [
      "epoch: 1 | train loss: 1.21871  | lr: 1.248263e-04:  70%|███████████████▎      | 40000/57237 [1:40:39<42:24,  6.78it/s]"
     ]
    },
    {
     "name": "stdout",
     "output_type": "stream",
     "text": [
      "<pad><pad><pad><pad><pad><pad><pad><pad><pad><pad><pad><pad><pad><pad><pad><pad><pad><pad><pad><pad><pad><pad><pad><pad><pad><pad><pad><pad><pad><pad><pad><pad><pad><pad><pad><pad><pad><pad><pad><pad><pad><pad><pad><pad><pad><pad><pad><pad><pad><pad><pad><pad><pad><pad><pad><pad><pad><pad><pad><pad><pad><pad><pad><pad><pad><pad><pad><pad><pad><pad><pad><pad><pad><pad><pad><pad><pad><pad><pad><pad><pad><pad><pad><pad><pad><pad><pad><pad><pad><pad><pad><pad><pad><pad><pad><pad><pad><pad><pad><pad><pad><pad><pad><pad><pad><pad><pad><pad><pad><pad><pad><pad><pad><pad><pad><pad><pad><pad><pad><pad><pad><pad><pad><pad><pad><pad><pad> m. m mặt xuống mặt tôi. Tôi nhỏ mặt tôi lên, ngắm tôi nghiêm nhấm nháp trong tráp, trong bụng mẹ, mẹ tôi đương lúi húi trong cái cột trụ ở đầu tường. Nhưng chỉ một thoáng đã tối hôm ấy, tôi đứng trong bụng mẹ, cả nhà cùng đi ngủ. Tôi chỉ nghe tiếng chân người chạy theo nhà này chẳng thấy bóng tối. Tôi đã nghe tiếng gà kêu chí. Tôi chạy theo. Tôi chạy vào, thì tưởng như thế. Nhưng mà cũng chẳng còn có người đến đâu. Tôi không nói nữa. Tôi cũng không thích thú vị. Tôi chỉ nghe anh chuyện ngày trước anh đã đi đến đâu đâu. Tôi đã biết trước cả nhà anh thấy cũng không để ý chuyện ngày xưa. Nhưng tôi cũng chẳng biết thế nào, tôi cũng đương thương nhớ cái thằng con chó thế nào đấy.\n",
      "\n",
      "- Thằng này cũng biết thằng này đi chơi với tôi. Tao chỉ biết có thằng bán dầu nhé.\n",
      "\n",
      "- Chúng mày đi thì chết đói đi đâu?\n",
      "\n",
      "- Chúng mày đi chơi đâu ?\n",
      "\n",
      "- Thế là có thằng đội Quang.\n",
      "\n",
      "- Thế thì chúng mày đi đâu?\n",
      "\n",
      "- Chúng nó chết rồi, chết rồi.\n",
      "\n",
      "- Chúng nó trốn đâu?\n",
      "\n",
      "- Không được.\n",
      "\n",
      "- Chúng em chẳng biết.\n",
      "\n",
      "- Chúng em th\n"
     ]
    },
    {
     "name": "stderr",
     "output_type": "stream",
     "text": [
      "epoch: 1 | train loss: 1.21532  | lr: 9.915556e-05:  73%|██████████████▋     | 42002/57237 [1:45:42<3:17:09,  1.29it/s]"
     ]
    },
    {
     "name": "stdout",
     "output_type": "stream",
     "text": [
      "<pad><pad><pad><pad><pad><pad><pad><pad><pad><pad><pad><pad><pad><pad><pad><pad><pad><pad><pad><pad><pad><pad><pad><pad><pad><pad><pad><pad><pad><pad><pad><pad><pad><pad><pad><pad><pad><pad><pad><pad><pad><pad><pad><pad><pad><pad><pad><pad><pad><pad><pad><pad><pad><pad><pad><pad><pad><pad><pad><pad><pad><pad><pad><pad><pad><pad><pad><pad><pad><pad><pad><pad><pad><pad><pad><pad><pad><pad><pad><pad><pad><pad><pad><pad><pad><pad><pad><pad><pad><pad><pad><pad><pad><pad><pad><pad><pad><pad><pad><pad><pad><pad><pad><pad><pad><pad><pad><pad><pad><pad><pad><pad><pad><pad><pad><pad><pad><pad><pad><pad><pad><pad><pad><pad><pad><pad><pad> m! m! Tôi đi đâu mà chạy đi thì chết đi nữa.\n",
      "\n",
      "Tôi chạy về. Tôi nói đùa một câu này cũng đi chơi thế, chứ chẳng biết thật hay là đã bảo là đứa nào đi ngủ trưa nay cũng không được. Tôi cũng không biết thế nào. Cái thằng bán dầu lại ngồi đằng sau nhà nghe thấy mà nó đâu. Tôi cũng không thấy nó đâu. Thế là tôi đi đâu, tôi cũng biết các con nhà văn đã có một con người đến thế, tôi đi tìm con đường mới đến đây. Tôi có cảm tưởng tôi đã nên một chuyến đi đâu mà tôi đã đi đâu mất việc có lẽ chẳng có đâu ra ngủ ngay trước mặt chữ. Nhưng cái thằng cha đi đâu cũng thế thôi. Tôi chỉ có một cái nghĩ ngợi một lời nói đầu năm nay có thư về nghề văn và có cách nói về cái thằng cu Con có thể cắt nghĩa cho con mẹ mình được đi học. Chẳng bao lâu nay những con cua đã thành tích cho mẹ con cái mẹ này trước đi theo. Mẹ con cũng biết trẻ con đi ăn trộm thôi. Nhưng con cua mặc cũng chẳng bao giờ chúng mày đi thì chết thôi. Thế là chúng mình đương đi chơi với mình. Nhưng mà thật ra chưa được những con người ta\n"
     ]
    },
    {
     "name": "stderr",
     "output_type": "stream",
     "text": [
      "epoch: 1 | train loss: 1.21824  | lr: 7.592224e-05:  77%|███████████████▍    | 44002/57237 [1:50:41<2:50:38,  1.29it/s]"
     ]
    },
    {
     "name": "stdout",
     "output_type": "stream",
     "text": [
      "<pad><pad><pad><pad><pad><pad><pad><pad><pad><pad><pad><pad><pad><pad><pad><pad><pad><pad><pad><pad><pad><pad><pad><pad><pad><pad><pad><pad><pad><pad><pad><pad><pad><pad><pad><pad><pad><pad><pad><pad><pad><pad><pad><pad><pad><pad><pad><pad><pad><pad><pad><pad><pad><pad><pad><pad><pad><pad><pad><pad><pad><pad><pad><pad><pad><pad><pad><pad><pad><pad><pad><pad><pad><pad><pad><pad><pad><pad><pad><pad><pad><pad><pad><pad><pad><pad><pad><pad><pad><pad><pad><pad><pad><pad><pad><pad><pad><pad><pad><pad><pad><pad><pad><pad><pad><pad><pad><pad><pad><pad><pad><pad><pad><pad><pad><pad><pad><pad><pad><pad><pad><pad><pad><pad><pad><pad><pad> lên! Tai nghe tiếng chiêng chiếc túi. Cả bọn trẻ con người chơi đứng ngoài suối xanh trên đầu nhà. Chúng tôi lại thấy thế này là người tha hương đã thấy trong nhà thờ có thể thấy được những chuyện thơ và chuyện thơ tưởng tượng ra thơ mộng của tôi, thật là đã thật như thế, nhưng tôi cũng không nhớ được cái thư tình cờ đến thế. Tôi chỉ biết thế, thế là tôi cũng không biết. Bởi vì tôi có những con chim gáy chim trong chim bay qua. Tôi đã nghĩ ra cách nghĩ thêm một cái thân hình con chim gáy trong nhà đi tìm con chim trong lồng nhà này.\n",
      "\n",
      "Từ hôm ấy, tôi có người đến trong bụi cây thông thường, tôi không thể nhớ lại chuyện nữa. Chẳng mấy khi tôi đã nghe tiếng chuyện đã đương nghe tiếng chuyện đổ ra ngoài đồng. Tôi thường nghĩ ra những chuyện tình cờ đỏ hoe như thế.\n",
      "\n",
      "Tôi chưa thấy Nguyễn Tuân đã nghĩ ra thế nào. Nguyễn Tuân thường viết truyện kiếm hiệp về cho thiếu nhi. Nhưng cũng không thể làm thế nào cho nên tới được thư từ. Nguyễn Huy Tưởng và tôi thường đọc cho tôi biết trước kia khi chú\n"
     ]
    },
    {
     "name": "stderr",
     "output_type": "stream",
     "text": [
      "epoch: 1 | train loss: 1.20294  | lr: 6.000000e-05:  80%|████████████████    | 46002/57237 [1:55:40<2:24:41,  1.29it/s]"
     ]
    },
    {
     "name": "stdout",
     "output_type": "stream",
     "text": [
      "<pad><pad><pad><pad><pad><pad><pad><pad><pad><pad><pad><pad><pad><pad><pad><pad><pad><pad><pad><pad><pad><pad><pad><pad><pad><pad><pad><pad><pad><pad><pad><pad><pad><pad><pad><pad><pad><pad><pad><pad><pad><pad><pad><pad><pad><pad><pad><pad><pad><pad><pad><pad><pad><pad><pad><pad><pad><pad><pad><pad><pad><pad><pad><pad><pad><pad><pad><pad><pad><pad><pad><pad><pad><pad><pad><pad><pad><pad><pad><pad><pad><pad><pad><pad><pad><pad><pad><pad><pad><pad><pad><pad><pad><pad><pad><pad><pad><pad><pad><pad><pad><pad><pad><pad><pad><pad><pad><pad><pad><pad><pad><pad><pad><pad><pad><pad><pad><pad><pad><pad><pad><pad><pad><pad><pad><pad><pad> ! ! Thằng béo nheo thầy tôi ra ngoài đầu ngõ. Tôi ngồi xuống, thầy nghe tiếng chân tôi, như tiếng thầy nhịp bốn cái lồng tre trên bờ ao, chỉ có một lũ con chim cũng biết thế. Nhưng cũng chưa biết thế nào, chỉ có một lần thì chúng nó bắt chước các con chim cũng chỉ đi canh chim đương đi tìm đánh đồng bay về. Chúng nó chạy ra đây không biết thế nào. Chúng nó đi làm mồi mà chúng nó lại không thể chịu nổi theo người ta chết được, chứ thế nào cũng có thể có cái thằng đội Cự là thằng Đình có thể trông thấy cái gì thế nào?\n",
      "\n",
      "- Tôi đã đi tìm chỗ này có con rể như chuột chù chù cho chúng nó chết đấy.\n",
      "\n",
      "- Chúng nó biết làm cho con đi được.\n",
      "\n",
      "- Thế thì tôi chết cả đêm nay thế nào? Tôi không thèm đi đâu.\n",
      "\n",
      "- Tôi chỉ đi chơi với các cháu nhà thầy.\n",
      "\n",
      "- Các cháu đi đâu?\n",
      "\n",
      "- Thầy bảo anh có nhiều cái thúng mà thôi. Thầy cho thầy đồng bào chết rồi. Thầy giáo tôi chỉ biết có thằng bán dầu. Thầy đã chết thật, thầy đồ chỉ đi chơi với tôi, thầy đồ tôi đây.\n",
      "\n",
      "Tôi đương nghĩ đến cái lúc thầy giáo tôi đã thuộc cả n\n"
     ]
    },
    {
     "name": "stderr",
     "output_type": "stream",
     "text": [
      "epoch: 1 | train loss: 1.20359  | lr: 6.000000e-05:  84%|████████████████▊   | 48002/57237 [2:00:39<2:00:13,  1.28it/s]"
     ]
    },
    {
     "name": "stdout",
     "output_type": "stream",
     "text": [
      "<pad><pad><pad><pad><pad><pad><pad><pad><pad><pad><pad><pad><pad><pad><pad><pad><pad><pad><pad><pad><pad><pad><pad><pad><pad><pad><pad><pad><pad><pad><pad><pad><pad><pad><pad><pad><pad><pad><pad><pad><pad><pad><pad><pad><pad><pad><pad><pad><pad><pad><pad><pad><pad><pad><pad><pad><pad><pad><pad><pad><pad><pad><pad><pad><pad><pad><pad><pad><pad><pad><pad><pad><pad><pad><pad><pad><pad><pad><pad><pad><pad><pad><pad><pad><pad><pad><pad><pad><pad><pad><pad><pad><pad><pad><pad><pad><pad><pad><pad><pad><pad><pad><pad><pad><pad><pad><pad><pad><pad><pad><pad><pad><pad><pad><pad><pad><pad><pad><pad><pad><pad><pad><pad><pad><pad><pad><pad> ! m! Gan! Thế là em lại ! Thế mà lại đi ! Mẹ ơi !\n",
      "\n",
      "Tôi nhìn lên cái bóng tối điếu ! Chỉ còn mẹ tôi chưa biết thế nào. Tôi cũng không dám nói gì. Tôi chỉ nghe tiếng chim kêu thế này thôi. Tôi không biết thế nào.\n",
      "\n",
      "Tôi đã nhận ra những chuyện đời của một con chim trong nháy nháy mắt. Nhưng cũng không biết lúc nào chẳng mấy lúc ngủ say. Có lẽ chỉ thấy con chim biển ngoài đường trong lòng đất trong lòng đất nước thôi. Nhưng cũng không thấy cái đầu trọc tròn như cái thúng trên đầu tường. Một đứa trẻ nghe tiếng trẻ con cũng chẳng buồn. Nhưng chỉ thấy cái bóng trăn thì cũng chỉ thấy một cái đầu trọc một chiếc thuyền đậu xuống như thế. Thế là cả nhà cả nhà An Tiêm trông ra chỗ chất thêm một chiếc bánh sàn đương ngoằn ngoèo ngoèo ngoèo ngoèo ngoèo ngoèo ngoèo ngọt mà không biết người ta đâu. Chiếc xe đạp được đem ném vào cái chiếu càng ra đấy.\n",
      "\n",
      "Một người ngồi trong nhà trên bàn, người ta chỉ ngồi nghe nhìn thấy một câu hát, như thế nào cũng thấy thế. Từ đấy, từ lúc trông thấy trên bờ tường đá c\n"
     ]
    },
    {
     "name": "stderr",
     "output_type": "stream",
     "text": [
      "epoch: 1 | train loss: 1.20400  | lr: 6.000000e-05:  87%|█████████████████▍  | 50002/57237 [2:05:37<1:33:34,  1.29it/s]"
     ]
    },
    {
     "name": "stdout",
     "output_type": "stream",
     "text": [
      "<pad><pad><pad><pad><pad><pad><pad><pad><pad><pad><pad><pad><pad><pad><pad><pad><pad><pad><pad><pad><pad><pad><pad><pad><pad><pad><pad><pad><pad><pad><pad><pad><pad><pad><pad><pad><pad><pad><pad><pad><pad><pad><pad><pad><pad><pad><pad><pad><pad><pad><pad><pad><pad><pad><pad><pad><pad><pad><pad><pad><pad><pad><pad><pad><pad><pad><pad><pad><pad><pad><pad><pad><pad><pad><pad><pad><pad><pad><pad><pad><pad><pad><pad><pad><pad><pad><pad><pad><pad><pad><pad><pad><pad><pad><pad><pad><pad><pad><pad><pad><pad><pad><pad><pad><pad><pad><pad><pad><pad><pad><pad><pad><pad><pad><pad><pad><pad><pad><pad><pad><pad><pad><pad><pad><pad><pad><pad> lêm! Tôi lại nghe tôi nói thế thôi. Tôi chỉ thích cái nghe anh chuột của tôi đã thích như thế. Tôi lại thấy anh chàng nhìn ngay chân tôi, nhưng cũng chưa bao giờ tôi chịu được như thế. Tôi chỉ cho tôi nghe tiếng nó thế. Chúng nó cũng chẳng nghe tiếng chân chạy vào cổ tôi. Tôi thấy trong nhà tôi chưa trông thấy cái thằng chim gáy nào đấy, nhưng chỉ là chỗ nào cũng có người mặc áo the dài dài ngoẵng, chỉ thấy tôi còn có thể đoán được người ta đi đâu mà thôi. Tôi đi bán hàng ngày cũng đi được cho tôi trông thấy thằng bán dầu. Những cái đầu tóc còn to hơn thế này. Tôi chỉ biết thôi\n",
      "\n",
      "Một hôm, tôi đi ngay chợ Bưởi, nhưng mà tôi cũng chưa đến chốn nạn đói, tôi cũng thấy như thế. Tôi không thể nhớ cái cô gái thích của tôi đây là cô đi chơi nhà máy chính trị đến nhà tôi. Thày tôi đi chơi chơi với chúng tôi, thày tôi đi chơi chứ chẳng phải chỉ có mỗi một cái chân trước mặt. Tôi ngồi ngây ngoài cửa tổ. Tôi trông thấy bà tôi nhìn ông tôi, không thấy cái gì nữa. Bà tôi chỉ biết được cái chỗ mới là\n"
     ]
    },
    {
     "name": "stderr",
     "output_type": "stream",
     "text": [
      "epoch: 1 | train loss: 1.20652  | lr: 6.000000e-05:  91%|██████████████████▏ | 52002/57237 [2:10:36<1:07:40,  1.29it/s]"
     ]
    },
    {
     "name": "stdout",
     "output_type": "stream",
     "text": [
      "<pad><pad><pad><pad><pad><pad><pad><pad><pad><pad><pad><pad><pad><pad><pad><pad><pad><pad><pad><pad><pad><pad><pad><pad><pad><pad><pad><pad><pad><pad><pad><pad><pad><pad><pad><pad><pad><pad><pad><pad><pad><pad><pad><pad><pad><pad><pad><pad><pad><pad><pad><pad><pad><pad><pad><pad><pad><pad><pad><pad><pad><pad><pad><pad><pad><pad><pad><pad><pad><pad><pad><pad><pad><pad><pad><pad><pad><pad><pad><pad><pad><pad><pad><pad><pad><pad><pad><pad><pad><pad><pad><pad><pad><pad><pad><pad><pad><pad><pad><pad><pad><pad><pad><pad><pad><pad><pad><pad><pad><pad><pad><pad><pad><pad><pad><pad><pad><pad><pad><pad><pad><pad><pad><pad><pad><pad><pad> li! ! Chú mày làm cho mà đi!\n",
      "\n",
      "Những chú muốn bay làm cho tôi đi đâu mất tiền ăn cho các ông mà lại cho cháu một cái mà tôi thấy như con chim gáy chỉ có cái chim nhỏ mà chết như thế này. Chúng nó cũng nghe tiếng thì người chết được. Chim chích lạc rừng rực rỡ thế này thì chim chỉ có thế. Trời đất đã lâu, thế là chim sẻ lại đương đứng dậy. Nhưng lại không thấy người ta thản nhiên cho người đi được. Bây giờ cả nhà đi tìm chỗ để chỗ nào cũng nghe tiếng trống thúc giục giã giã gạo, tiếng người thì thào người lại thấy đất nước đã được trở về làng nào. Thế mà cũng không có tiền đâu chắc chắn. Nhưng tôi cũng chẳng còn thấy tôi nữa. Tôi cũng đương đợi anh Bẻ đến đây chơi thôi. Chỗ này thì chỗ này có mưa mới đi đâu mà đã thôi.\n",
      "\n",
      "Cái đầu lâu nay cũng không biết trời nắng nào. Trông thấy cái bóng tối đen thẫm như những con chim biển lại nhớ lời ngày trước, chim sẻ lại trở lại. Nhưng chỉ có một mình mình chưa thấy bóng nàng chỉ còn nhớ mưa thế thôi. Thế là chúng tôi chỉ biết nghe ra trước mặt tôi. \n"
     ]
    },
    {
     "name": "stderr",
     "output_type": "stream",
     "text": [
      "epoch: 1 | train loss: 1.20142  | lr: 6.000000e-05:  94%|████████████████████▊ | 54002/57237 [2:15:34<41:50,  1.29it/s]"
     ]
    },
    {
     "name": "stdout",
     "output_type": "stream",
     "text": [
      "<pad><pad><pad><pad><pad><pad><pad><pad><pad><pad><pad><pad><pad><pad><pad><pad><pad><pad><pad><pad><pad><pad><pad><pad><pad><pad><pad><pad><pad><pad><pad><pad><pad><pad><pad><pad><pad><pad><pad><pad><pad><pad><pad><pad><pad><pad><pad><pad><pad><pad><pad><pad><pad><pad><pad><pad><pad><pad><pad><pad><pad><pad><pad><pad><pad><pad><pad><pad><pad><pad><pad><pad><pad><pad><pad><pad><pad><pad><pad><pad><pad><pad><pad><pad><pad><pad><pad><pad><pad><pad><pad><pad><pad><pad><pad><pad><pad><pad><pad><pad><pad><pad><pad><pad><pad><pad><pad><pad><pad><pad><pad><pad><pad><pad><pad><pad><pad><pad><pad><pad><pad><pad><pad><pad><pad><pad><pad> làm! Tai nghe tiếng một tiếng. Những chuồng gà đã thanh thảnh thảnh thơi rồi lại như thế.\n",
      "\n",
      "Chẳng bao lâu, chỉ có một người đàn bà thì chạy theo. Trên chiếc thuyền canh cuộn tròn như người đàn bà liềm thấy mình thì chết đói lại chết. Người nhà bàn tán thì chết rồi. Người ta bảo thế. Người ta nói người ta đấy, nhưng tôi cũng chưa được biết thế nào. Thế là những cái thằng cướp trước trông nom và chỉ thấy có thằng bé nhỏ mới có mưu mẹo mặt được. Người ta chỉ thấy người đi chợ được chiều mà thôi.\n",
      "\n",
      "- Thế nào?\n",
      "\n",
      "- Thế thì chúng ta sẽ đi đâu đấy?\n",
      "\n",
      "- Thế thì các anh ấy đi đâu cả nhà nó cũng được.\n",
      "\n",
      "- Thế thì thế nào?\n",
      "\n",
      "- Người ta nói thế.\n",
      "\n",
      "- Thế thì cũng phải trả thù mới được.\n",
      "\n",
      "- Chẳng biết thế nào nữa.\n",
      "\n",
      "- Chúng nó đi rồi. Chúng nó theo nhà nó đi đâu?\n",
      "\n",
      "- Tôi không biết, chúng nó có thể nhớ chết thôi.\n",
      "\n",
      "- Chúng nó cũng chết cả.\n",
      "\n",
      "- Chúng nó còn ngồi đấy thôi.\n",
      "\n",
      "- Người ta đi chợ chiều về thì chúng nó cũng chẳng biết chiếc cần câu cắp cặp chân cho mình. Chỉ có việc đi thì tôi chẳng biết thế nào. Tôi c\n"
     ]
    },
    {
     "name": "stderr",
     "output_type": "stream",
     "text": [
      "epoch: 1 | train loss: 1.20292  | lr: 6.000000e-05:  98%|█████████████████████▌| 56002/57237 [2:20:43<16:17,  1.26it/s]"
     ]
    },
    {
     "name": "stdout",
     "output_type": "stream",
     "text": [
      "<pad><pad><pad><pad><pad><pad><pad><pad><pad><pad><pad><pad><pad><pad><pad><pad><pad><pad><pad><pad><pad><pad><pad><pad><pad><pad><pad><pad><pad><pad><pad><pad><pad><pad><pad><pad><pad><pad><pad><pad><pad><pad><pad><pad><pad><pad><pad><pad><pad><pad><pad><pad><pad><pad><pad><pad><pad><pad><pad><pad><pad><pad><pad><pad><pad><pad><pad><pad><pad><pad><pad><pad><pad><pad><pad><pad><pad><pad><pad><pad><pad><pad><pad><pad><pad><pad><pad><pad><pad><pad><pad><pad><pad><pad><pad><pad><pad><pad><pad><pad><pad><pad><pad><pad><pad><pad><pad><pad><pad><pad><pad><pad><pad><pad><pad><pad><pad><pad><pad><pad><pad><pad><pad><pad><pad><pad><pad> m o ooai như một chút. Tôi chỉ nhìn thấy thầy giáo tôi được một nghe tiếng giọng cười nói nhỏ mà thôi. Thầy giáo tôi chỉ nhớ mười năm trước, thầy cho chúng tôi biết cái chăn dạ. Thầy giáo tôi cũng nhớ ra những ngày thầy giáo ngày xưa cái thư tình cờ tôi chỉ có một thôi. Thầy giáo ngồi xuống đầu gối đầu gối đầu gối. Có thể chết thôi. Đứa nào chết chém ngay được thì chết thôi. Chứ cho mày biết được cái thằng đội Quang đã đi đâu rồi?\n",
      "\n",
      "- Chúng mày chết đi đâu?\n",
      "\n",
      "- Thằng Cõi.\n",
      "\n",
      "- Chẳng được.\n",
      "\n",
      "- Có người thì chết đến đây nữa.\n",
      "\n",
      "- Bẩm quan, tao cứ nghĩ ra cách nào.\n",
      "\n",
      "- Tôi biết rồi.\n",
      "\n",
      "- Thế thì cái này chứ.\n",
      "\n",
      "- Chúng nó chết cả.\n",
      "\n",
      "Chúng nó đã nghe tiếng chuông kêu rống từng chùm khoanh tre trong lòng tổ.\n",
      "\n",
      "- Thế là cái tổ trưởng thôn Cối đi chơi đâu đến?\n",
      "\n",
      "- Chưa biết, chú mình cứ đi thì đi. Nhưng chú cũng chẳng phải là con người chim ri đánh lão Quạ.\n",
      "\n",
      "- Thế thì thế nào?\n",
      "\n",
      "- Chú ấy đi chơi trong nhà. Chú bay chổng đuôi lên trời, đi đánh Quạ.\n",
      "\n",
      "Chèo Bẻo tìm đánh Quạ. Chèo Bẻo đi tìm Phượng Hoàng Đất. Ph\n"
     ]
    },
    {
     "name": "stderr",
     "output_type": "stream",
     "text": [
      "epoch: 1 | train loss: 1.20018  | lr: 6.000000e-05: 100%|██████████████████████| 57237/57237 [2:23:54<00:00,  6.63it/s]\n"
     ]
    }
   ],
   "source": [
    "trainer.train()"
   ]
  },
  {
   "cell_type": "markdown",
   "metadata": {},
   "source": [
    "## Let's compare the result"
   ]
  },
  {
   "cell_type": "code",
   "execution_count": 19,
   "metadata": {
    "scrolled": true
   },
   "outputs": [
    {
     "name": "stdout",
     "output_type": "stream",
     "text": [
      "cháu lên ba cháu vô mẫu giáo\n",
      "\n",
      "\n",
      "\n",
      "\n",
      "\n",
      "Mục lục\n",
      "\n",
      "\n",
      "Mùi:\n",
      "\n",
      "- Mày biết đi đâu cũng thày tôi được. Nhưng những tiếng thầy có người đã bắt chước và trong làng, cho đến đâu về làng, người lớn cho chúng mày thế thì thế nào. Mon nhìn đi được. Bác Thậm nói là người ngày ngày đi làm chỗ trong nhà đã bắt được một cái nghiêng thôn thờ các con và tiếng chuồn nhưng lại nhìn thấy tôi lại đến đây này?\n",
      "\n",
      "- Thế thì đến đứa thang tráng ngoài thành phố. Thông thường. Một tháng chi liệu ngày nào cũng có người cũng đến được một chuyện thật thì cái trường thì chẳng có được điếm thuộc nhà tôi. Các nhân vật cho chúng tôi đã đi đâu. Nhưng trong những cuộc truyện ngắn Tân Dân đã thành phố trong những buồng thì nghi ngờ, chúng tôi chỉ có tiếng thì có tiếng thú vịt được đi chơi. Chỉ nghi ngờ ngang người ta cho chúng tôi.\n",
      "\n",
      "Năm 1957, chẳng điều thu từ đây làm cho người ta đã trở về đây, không biết thế nào cũng chỉ được thằng \n"
     ]
    }
   ],
   "source": [
    "sample = \"cháu lên ba cháu vô mẫu giáo\"\n",
    "print(lstm.generate_output(sample, dataset, top_k=5, temperature=0.7))"
   ]
  },
  {
   "cell_type": "code",
   "execution_count": 20,
   "metadata": {},
   "outputs": [
    {
     "name": "stdout",
     "output_type": "stream",
     "text": [
      "<pad><pad><pad><pad><pad><pad><pad><pad><pad><pad><pad><pad><pad><pad><pad><pad><pad><pad><pad><pad><pad><pad><pad><pad><pad><pad><pad><pad><pad><pad><pad><pad><pad><pad><pad><pad><pad><pad><pad><pad><pad><pad><pad><pad><pad><pad><pad><pad><pad><pad><pad><pad><pad><pad><pad><pad><pad><pad><pad><pad><pad><pad><pad><pad><pad><pad><pad><pad><pad><pad><pad><pad><pad><pad><pad><pad><pad><pad><pad><pad><pad><pad><pad><pad><pad><pad><pad><pad><pad><pad><pad><pad><pad><pad><pad><pad><pad><pad><pad><pad>cháu lên ba cháu vô mẫu giáo. Thế là thầy giáo Hoạnh trên mặt trận Bình dân tộc phản động, báo động chí đã biết chưa?\n",
      "\n",
      "Chẳng may, tôi không biết, nhưng tôi không thể biết chừng. Tôi chỉ làm cho có thế thôi. Có lần anh đương đứng lại trên đầu cầu tay. Tôi nghĩ có cái đầu tôi như chuyện cái gì thế này. Tôi không thể coi như một lúc sau. Tôi đi tìm đến tập cuộc đời có người đọc sống trong bóng tối. Tôi không hiểu tại sao, không thấy đội trưởng Cự lại đứng lại, thì thào về nhà. Đến lúc cả nhà đã được thấy những người con gái đứng trong nhà. Chẳng biết thế cũng chẳng cần biết nghĩ ra nghĩ đến nỗi người đi đâu.\n",
      "\n",
      "Những câu thơ ấu, trong bụng thơ Nguyễn Bính đã làm nghề làm báo, thơ tình trai thì người ta cho tôi nghĩ ra một thiết như thơ tình nghĩa và có những con người, những khi có người đến đâu, những ngày đầu tiên của chúng tôi thường để ý thấy chúng tôi đã làm nghề báo chí. Những năm sau những năm 1946, các chị chuyển động, có thể đọc cách và đọc thấy, trong thời kỳ ấy, các tập thơ Tự Lực văn nghệ viện của Vũ Trọn\n"
     ]
    }
   ],
   "source": [
    "print(gpt.generate_output(sample, dataset, top_k=5, temperature=0.7))"
   ]
  },
  {
   "cell_type": "markdown",
   "metadata": {},
   "source": [
    "We can see Transformer model retains the long range relation/dependency much more than LSTM, hence produce more meaningful sentences.\n",
    "\n",
    "**Take away:**\n",
    "- Transformer works better than LSTM at language modeling for the purpose of text generation\n",
    "- Transformer generally takes longer to train due to the sheer amount of parameters\n",
    "- We dont have very good metric to discrimite good and bad text"
   ]
  },
  {
   "cell_type": "code",
   "execution_count": null,
   "metadata": {},
   "outputs": [],
   "source": []
  }
 ],
 "metadata": {
  "kernelspec": {
   "display_name": "Python 3",
   "language": "python",
   "name": "python3"
  },
  "language_info": {
   "codemirror_mode": {
    "name": "ipython",
    "version": 3
   },
   "file_extension": ".py",
   "mimetype": "text/x-python",
   "name": "python",
   "nbconvert_exporter": "python",
   "pygments_lexer": "ipython3",
   "version": "3.7.6"
  }
 },
 "nbformat": 4,
 "nbformat_minor": 4
}
