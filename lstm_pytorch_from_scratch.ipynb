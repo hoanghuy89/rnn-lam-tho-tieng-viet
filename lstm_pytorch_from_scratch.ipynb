{
 "cells": [
  {
   "cell_type": "markdown",
   "metadata": {},
   "source": [
    "# LSTM network for language modeling\n",
    "Here we'll define our own forward pass for lstm, and we rely on pytorch for the backward pass.\n",
    "\n",
    "![LSTM](images/General-scheme-of-an-Long-Short-Term-Memory-neural-networks-LSTM-for-L-p-The.ppm)\n",
    "<a href=https://www.researchgate.net/figure/General-scheme-of-an-Long-Short-Term-Memory-neural-networks-LSTM-for-L-p-The_fig1_339120709>Image from</a>"
   ]
  },
  {
   "cell_type": "code",
   "execution_count": 1,
   "metadata": {
    "scrolled": true
   },
   "outputs": [],
   "source": [
    "\n",
    "import logging\n",
    "logging.basicConfig(\n",
    "        format=\"%(asctime)s - %(levelname)s - %(name)s -   %(message)s\",\n",
    "        datefmt=\"%m/%d/%Y %H:%M:%S\",\n",
    "        level=logging.INFO,\n",
    ")\n",
    "\n",
    "%load_ext autoreload\n",
    "%autoreload 2\n",
    "%matplotlib inline"
   ]
  },
  {
   "cell_type": "code",
   "execution_count": 2,
   "metadata": {},
   "outputs": [],
   "source": [
    "from torch.utils.data import Dataset\n",
    "import torch\n",
    "import numpy as np\n",
    "\n",
    "class CharDataset(Dataset):\n",
    "    def __init__(self, data, sequence_len):\n",
    "        # data in the type of pairs of sentence\n",
    "        \n",
    "        chars = ['<pad>']+sorted(list(set(data)))\n",
    "        data_size, vocab_size = len(data), len(chars)\n",
    "        print('data has %d characters, %d unique.' % (data_size, vocab_size))\n",
    "        \n",
    "        self.ch2i = { ch:i for i,ch in enumerate(chars) }\n",
    "        self.i2ch = { i:ch for i,ch in enumerate(chars) }\n",
    "        self.sequence_len = sequence_len\n",
    "        self.vocab_size = vocab_size\n",
    "        self.data = data\n",
    "    \n",
    "    def __len__(self):\n",
    "        return len(self.data) - self.sequence_len\n",
    "    \n",
    "    def __getitem__(self, idx):\n",
    "        # grab a chunk of (block_size + 1) characters from the data\n",
    "        chunk = self.data[idx:idx + self.sequence_len + 1]\n",
    "        # encode every character to an integer\n",
    "        dix = [self.ch2i[s] for s in chunk]\n",
    "\n",
    "        x = torch.tensor(self.vectorization(dix[:-1]), dtype=torch.long)\n",
    "        y = torch.tensor(dix[1:], dtype=torch.long)\n",
    "        \n",
    "        \n",
    "        return x,y\n",
    "                                                                                                                                       \n",
    "    def padding(self, string):\n",
    "        if len(string)<self.sequence_len:\n",
    "            string =  string + [0]*(self.sequence_len - len(string))\n",
    "        else:\n",
    "            string = string[:self.sequence_len]\n",
    "                   \n",
    "        return string\n",
    "    \n",
    "    def vectorization(self, idx):\n",
    "        out = np.zeros((self.sequence_len, self.vocab_size))\n",
    "        for i, index in enumerate(idx):\n",
    "            out[i,index] = 1\n",
    "        \n",
    "        return out"
   ]
  },
  {
   "cell_type": "code",
   "execution_count": 3,
   "metadata": {},
   "outputs": [
    {
     "name": "stdout",
     "output_type": "stream",
     "text": [
      "data has 19753491 characters, 236 unique.\n"
     ]
    }
   ],
   "source": [
    "text = open('data/bai_van_mau.txt', 'r', encoding='utf-8').read()\n",
    "dataset = CharDataset(text, sequence_len=128)"
   ]
  },
  {
   "cell_type": "markdown",
   "metadata": {},
   "source": [
    "# Train network"
   ]
  },
  {
   "cell_type": "code",
   "execution_count": 4,
   "metadata": {},
   "outputs": [],
   "source": [
    "from model.LSTM import LSTM, ModelConfig\n",
    "from utils.trainer import Trainer, TrainerConfig\n",
    "\n",
    "tconfig = TrainerConfig(max_epochs=2, \n",
    "                        batch_size=128, \n",
    "                        learning_rate=0.01, \n",
    "                        grad_norm_clip=1.0, \n",
    "                        device='cuda',\n",
    "                        lr_decay=True, \n",
    "                        warmup_tokens=5000, \n",
    "                        print_result_n_iter=100, \n",
    "                        ckpt_path='model/checkpoint/tfm_translate.net')\n",
    "\n",
    "mconfig = ModelConfig(vocab_size = dataset.vocab_size,\n",
    "                        sequence_len = 128,\n",
    "                        hidden_size = 512,\n",
    "                        batch_size = tconfig.batch_size,\n",
    "                        device=tconfig.device)"
   ]
  },
  {
   "cell_type": "code",
   "execution_count": 10,
   "metadata": {},
   "outputs": [],
   "source": [
    "model = LSTM(mconfig)\n",
    "trainer = Trainer(model, dataset, tconfig, test_datase t=None, collate=None)"
   ]
  },
  {
   "cell_type": "code",
   "execution_count": null,
   "metadata": {
    "scrolled": true
   },
   "outputs": [
    {
     "name": "stderr",
     "output_type": "stream",
     "text": [
      "epoch: 1 | train loss: 0.11650  | lr: 2.560000e-04:   0%|                       | 1/154323 [00:02<113:58:00,  2.66s/it]"
     ]
    },
    {
     "name": "stdout",
     "output_type": "stream",
     "text": [
      "-19. Đến nhà văn đã từng thấy được những kiến thức của mình có thể chung tay để cho chúng ta thấy trong cuộc sống của mình vì người đọc về cuộc sống của con người. Nó có thể là những người trong gia đình có thể tự tin và nhận thức được sự nhân sinh theo người thầy cô đã không có một người bạn thân thiết của mình. Chẳng hạn theo điều kiện thiết thực trong cuộc sống để trở thành một người như vậy, trong thời đại có thể được đó là một trong những câu chuyện thể hiện sự chân thành, tin tưởng và thanh bình, thiếu thốn và tinh thần trong cuộc sống của người thân của tôi là một trong những câu chuyện về những con người có thể thay đổi được tri thức cho chúng ta để làm cho chính mình thì con người ta có thể trở thành một người bạn thân thiết của chúng ta.\n",
      "Thông thường cho mình một trong những thao tác lập luận của người dân Việt Nam.\n",
      "Như vậy, trong cách sử dụng là nhữ\n"
     ]
    },
    {
     "name": "stderr",
     "output_type": "stream",
     "text": [
      "epoch: 1 | train loss: 1.19279  | lr: 9.999996e-03:   0%|                      | 101/154323 [00:24<20:47:16,  2.06it/s]"
     ]
    },
    {
     "name": "stdout",
     "output_type": "stream",
     "text": [
      "-19 được trang trí trong tiếng nói của mình được trang trí như vậy có thể thấy một chút chứa những chiếc lá có màu nâu sẫm. Cánh hoa thường có màu trắng ngà, trông rất dễ thương của mẹ em. Chú lại ngồi trên ghế nhà trường như vậy nhưng có lẽ những chú chim hồng nhung đỏ rực rỡ và thật đẹp mắt. Bên trong thân cây to và như những cánh hoa đỏ thắm. Những cánh hoa nhỏ xinh xuống biển để làm bằng lăng có màu trắng, những chú chim vàng tròn rất thích thú cho tôi như thế nào? Nhưng thật không có một khu vườn thật là thích thú và nói với em tôi đã thấy người đã thay đổi theo thời gian cho chúng em. Trong bài học đến trường, em cũng có thể trở thành biểu tượng của đất nước có thể thu hút các bạn đang được thưởng thức những thành quả nghiêm trọng nhất là những cái nắng chói chang chảy trôi chảy để đi theo chiếc bút mực của nhà thơ được như một chiếc thuyền nhỏ được trồn\n"
     ]
    },
    {
     "name": "stderr",
     "output_type": "stream",
     "text": [
      "epoch: 1 | train loss: 1.18567  | lr: 9.999973e-03:   0%|                      | 201/154323 [00:46<21:07:42,  2.03it/s]"
     ]
    },
    {
     "name": "stdout",
     "output_type": "stream",
     "text": [
      "-18. Chiếc đuôi và cho chúng em làm việc. Có nhiều người đều có nhiều những chi tiết và chính tả, thể hiện trực tiếp nhất là nhân vật chính là thể hiện cuộc đời này còn là một người thân thuộc trong cuộc đời này đã giúp đỡ những người xung quanh, những con người có thể thấy rằng ta có thể nói về truyền thống đạo đức của con người trong thời kì nhất là thời gian để trở thành một trong những người đi đó trong cuộc sống. Thế nhưng người đi đường đã được thưởng thức những cái thân cây màu đỏ như trăng đỏ thắm, mọc thành phố như thế, trên đường đến mùa thu đến cho mẹ và một trong những chú chim đang nhảy qua cảnh trường làng em có được trở nên thân thuộc và cao quý. Chú chim đang được trồng trên mặt trên cao và thơm ngon ngọt ngào, như một cây chuối thường thấy được chiếc áo màu xanh ngắt. Trên đầu chú gà con của nó thường thích màu trắng như một chiếc thuyền ngoài\n"
     ]
    },
    {
     "name": "stderr",
     "output_type": "stream",
     "text": [
      "epoch: 1 | train loss: 1.18129  | lr: 9.999929e-03:   0%|                      | 301/154323 [01:08<20:07:10,  2.13it/s]"
     ]
    },
    {
     "name": "stdout",
     "output_type": "stream",
     "text": [
      ". Trong chuyên môn này là một chiếc má tiếng cười và những cánh hoa nhỏ xinh như chiếc áo cho cây cối trong nắng sớm đến nỗi buồn của những người bạn thân thiết và thật đẹp. Có lẽ đó là những bài thơ được sáng tạo của con người. Người ta thường thấy có thể thấy được những cảm xúc vô cùng nghiêm trọng và thiếu thốn cho mình thì thấy rằng mình thật tốt để cho mẹ đã thưởng thức và ngưỡng mộ những con người trong cuộc sống của mình với chúng tôi. Một cô chú bé trò chuyện thật tốt để cho cả lớp mình có thể chơi với người nghệ sĩ tài sắc của những người bạn thân thiết.\n",
      "Em cảm thấy rất hạnh phúc khi đã thể hiện tình yêu thương của cha mẹ. Mẹ em cũng đã chuẩn bị cho cây cối nhưng chỉ có thể cho em thấy được thật vui vẻ. Trong mỗi chúng ta cần phải thương yêu thương cho con người với người khác. Vậy mà đã trở thành một điều thiện cho trường được sử dụng những người đã \n"
     ]
    },
    {
     "name": "stderr",
     "output_type": "stream",
     "text": [
      "epoch: 1 | train loss: 1.18377  | lr: 9.999864e-03:   0%|                      | 401/154323 [01:31<24:06:14,  1.77it/s]"
     ]
    },
    {
     "name": "stdout",
     "output_type": "stream",
     "text": [
      " đã trở thành một bài thơ được sử dụng như vậy, về tình yêu thương và thương mẹ, chăm chỉ học tập của con người cần phải có những con đường học tập của con người để có thể trở thành một người thân thiện và có những trẻ em cần phải có những thiếu suy nghĩ về cuộc sống và những thi sĩ, một trong những người ta cũng có thể nhận ra nhiều bài học trong cuộc sống. Chúng ta cần phải có những người thi nhân và nhận được tính mạng của con người, như chúng ta chưa bao giờ có thể làm nổi bật nhiều câu hỏi tiêu biểu trong các trường học của những người thi sĩ. Nhưng chúng ta cần phải có những người cha thường xuyên chứng minh cho thực tiễn và nghiêm chỉnh chấp nhận trong cuộc sống. Nói chung ta có thể thấy được vẻ đẹp của thiên nhiên của người nông dân Việt Nam từ thiên nhiên của triều đại hoàn toàn đúng đắn, cho thấy được trong thơ ca của người đọc và chủ động cho tác ph\n"
     ]
    },
    {
     "name": "stderr",
     "output_type": "stream",
     "text": [
      "epoch: 1 | train loss: 1.18791  | lr: 9.999779e-03:   0%|                      | 501/154323 [01:53<24:19:21,  1.76it/s]"
     ]
    },
    {
     "name": "stdout",
     "output_type": "stream",
     "text": [
      " – 2 - 2 câu thơ đầu của thơ Tố Hữu đã từ đó bao lâu nhưng chỉ có thể trở thành một cô bé nhỏ cho người ta đang nghe tiếng hót nhưng lại là những tiếng nói cười rộng mở tuyệt đẹp. Chú trâu có thể thấy chú là người bạn thân thiết của chúng ta đã được thưởng thức một chút những chiếc lá nhỏ xinh cho mẹ cho đi chơi với nhau nhưng chú đã đi thi đấu với chúng tôi như người thân thiết nhưng đã trở thành một chú chó chú nghèo khổ, mẹ con tôi nói và chăm sóc cho cái tốt của mình. Chỉ cần nghĩ đến những người xung quanh như một người bạn thân thiết, chúng ta càng thấy thích thú vì chúng ta cần phải thương yêu nhau. Nhưng thực tế chủ yếu cho thấy thể chiến thắng của nhân dân ta cho nhân dân ta. Trong thơ chữ Hán có thể là thái độ thiếu nhi của những người thân trong gia đình. Chúng mình cũng đều có thể nói với mẹ đã cho tôi nhiều người đã được chọn cho mình một chiếc áo\n"
     ]
    },
    {
     "name": "stderr",
     "output_type": "stream",
     "text": [
      "epoch: 1 | train loss: 1.18645  | lr: 9.999673e-03:   0%|                      | 601/154323 [02:16<22:45:26,  1.88it/s]"
     ]
    },
    {
     "name": "stdout",
     "output_type": "stream",
     "text": [
      " đã bị thương đi làm chủ nhiệm của trường của mình thì chúng em có thể thấy trong lòng em vì thế của em đã trở thành một trong những người con của mình để chuẩn bị cho chúng tôi. Người bạn thân thiết chính là những người bạn thân thiết và thương yêu của em. Thầy thường nghe những chuyện chúng em vui lòng và tự hào về người thân và nghe những câu chuyện về thầy cô giáo và chuyện của các bạn trong lớp như vậy. Chúng em chưa biết trong những ngày tháng và biết cách nhường nhịn và thấy trong một thời đại trong tương lai tươi đẹp trong thơ mới. Người nông dân cần phải chăn ngựa của người nông dân cần thiết và thể hiện sự thật đang là những điều thiếu trung thực và chân thành, không thể thiếu của chính các thế hệ học trò như một người bạn thân như vậy đã thành từng chùm chúng tôi vui vẻ và thoải mái và cho thấy thương chịu khó và nghiêm túc, chuẩn bị cho bài viết củ\n"
     ]
    },
    {
     "name": "stderr",
     "output_type": "stream",
     "text": [
      "epoch: 1 | train loss: 1.19132  | lr: 9.999546e-03:   0%|                      | 701/154323 [02:39<23:15:11,  1.84it/s]"
     ]
    },
    {
     "name": "stdout",
     "output_type": "stream",
     "text": [
      " theo cách sống của nhân dân ta. Với những tác phẩm văn học như vậy nếu có thể thay đổi thêm một cách sống thiết thực của con người thì đã thể hiện được tình yêu thương của người nông dân Việt Nam thật sự thông minh và thiếu trung thực. Những chiếc khăn quàng đỏ thắm thắm trắng, được cho nó được chia thành những thảm cỏ xanh trong vỏ ốc và chiếc chén thì thật to lớn. Những chiếc lá trông rất nghiêm khắc và những người bạn của chú chó của em thật đẹp. Chú mặc chiếc áo mới thì có những chiếc áo màu vàng của các bạn học sinh giỏi nào đó mới thấy được những thứ thầm lặng của chú tôi có thể đi xem hoa hồng đỏ thắm trông rất thông minh. Mỗi ngày chỉ còn nghe những câu chuyện cổ tích và nó chính là ngày tháng nào cũng được biết tới những trò chơi điện tử để lại cho chúng ta có thêm vẻ đẹp của người nông dân của người nông dân Việt Nam trong gia đình thì chỉ có những \n"
     ]
    },
    {
     "name": "stderr",
     "output_type": "stream",
     "text": [
      "epoch: 1 | train loss: 1.17828  | lr: 9.999398e-03:   1%|                      | 801/154323 [03:02<21:09:17,  2.02it/s]"
     ]
    },
    {
     "name": "stdout",
     "output_type": "stream",
     "text": [
      "ten, về những kiến thức về cuộc sống của mỗi người. Vào chiếc cặp thì thấy chú Thị Thị Thanh là một người bạn thân thiết của mình và các thầy cô giáo mà ngược lại những chiếc chuồng của chúng ta cũng như trong thời kỳ thiếu trung thực, để đạt được thành công. Thật vui vẻ, chúng ta cần phải trân trọng hơn nữa.\n",
      "- Trong câu thơ của Nam Cao, thời kỳ 19 trong cuộc đời. Người ta được thể hiện trong cuộc kháng chiến chủ quyền của dân tộc Việt Nam, với những người nông dân Việt Nam thì những người đã trải nghiệm của mình. Thật thú vị về thời gian và truyền tải một nhóm người lớn lại được thể hiện trong thời đại của nhà thơ, nhưng chính vì vậy mà cái nhìn của bà thường nhặt được nhiều chuyện cổ tích để thể hiện cảm xúc của người nông dân trong thời kì nhau. Từ trên cao trong thời kỳ đó đã được thể hiện từ những câu chuyện cổ tích của người nông dân Việt Nam trước cách \n"
     ]
    },
    {
     "name": "stderr",
     "output_type": "stream",
     "text": [
      "epoch: 1 | train loss: 1.18825  | lr: 9.999230e-03:   1%|▏                     | 901/154323 [03:24<20:50:26,  2.04it/s]"
     ]
    },
    {
     "name": "stdout",
     "output_type": "stream",
     "text": [
      ".\n",
      "- Những trang sách của Nguyễn Trãi đã được thể hiện và nhận thức để cho mình các câu hỏi như thế nào?\n",
      "- Tự học chỉ là con người chỉ còn những chiến tranh chính là người bạn tri kỉ, không tự hào vì thế mà trong cuộc sống của chúng ta như trước khi con người lại có thể thấy được những tình cảm của nhân dân ta đã trở thành một con người cho rằng \"nhà thơ đã chết cho chúng ta một người nghĩa sĩ nông dân cần đến là thiệt hại về những người đã đạt được những điều đó để thấy được cho con người chúng ta đều có thể thực hiện niềm tin vào tình người của nhân loại, không phải là người như chúng ta cần có những người bạn thân thiết của bạn bè mà ngược lại thì chúng ta cần có ý thức con người để cho chúng ta thấy được cho mình một cái chết của người nông dân, nhà văn lớn như một người bạn thân thiết của nhân vật này chỉ cần cho thấy một thiên thần với những người nông dâ\n"
     ]
    },
    {
     "name": "stderr",
     "output_type": "stream",
     "text": [
      "epoch: 1 | train loss: 1.18173  | lr: 9.999041e-03:   1%|▏                    | 1001/154323 [03:47<22:34:39,  1.89it/s]"
     ]
    },
    {
     "name": "stdout",
     "output_type": "stream",
     "text": [
      " trong tác phẩm văn học.\n",
      "- Chiếc cặp sách của em đã được bố mẹ cho chúng em thường thấy nó cũng thật thích mắt, chúng em có một chiếc cặp sách, người thì chị chuyển sang cho chúng em. Những lúc chúng tôi là người như đã trở thành công dân tốt đẹp và tinh khiết. Mỗi ngày nghỉ hè vừa rồi, em thích nhất là những ngày mới là người bạn tốt của nó và được biết cách đoàn kết cho mình những tiếng nói của bạn bè trước câu thơ thứ hai trong tác phẩm này đã được thể hiện qua các tác phẩm văn học thể hiện cảm xúc của con người. Chính vì vậy, trong thời kì này cũng như các loại cặp chính là nguyên nhân dẫn đến thể hiện trong cách mạng. Người ta có thể thất bại, chúng ta cần phải học tập thật tốt để chúng ta thấy được một chút sắc sảo, đáng yêu. Điều đó chính là chuyện trên toàn thủ động từ thế giới, viết về cái thiện thực vào các bài thơ trong những năm tháng thể hiện tron\n"
     ]
    },
    {
     "name": "stderr",
     "output_type": "stream",
     "text": [
      "epoch: 1 | train loss: 1.18643  | lr: 9.998831e-03:   1%|▏                    | 1101/154323 [04:10<22:28:48,  1.89it/s]"
     ]
    },
    {
     "name": "stdout",
     "output_type": "stream",
     "text": [
      "tinet và Âu Cơ đã đánh chuyền vào người chết như một người con nhà thì chưa có thể thực hiện nhiều cách tham gia giao thông cho tôi thường xuyên để cho con người thành những chiến sỹ còn trong các thanh niên trong cuộc sống của mình thì chúng ta cần có một sự thay đổi theo thời gian của chúng ta có thể cảm thấy thật thà. Những chiếc thuyền nhỏ bé là loài vật cũng đã thể hiện một chiếc cặp chúng ta đang đưa tay cho thấy được câu thơ trên của câu chuyện:\n",
      "- Thuận lợi của người đọc nhiều người thanh niên được đánh giá và những người có thể hiểu biết về văn chương thể hiện thành công và thiết tha và thiết thực như vậy. Người tham gia giao thông là thành công nhất của tất cả các thành viên trong gia đình đều được chia sẻ những kỉ niệm về người khác chiến thắng của bạn bè thì trong cuộc sống của bạn có thể đến trường cũng thường chúc các em bé nhỏ bé nhưng lại cho co\n"
     ]
    },
    {
     "name": "stderr",
     "output_type": "stream",
     "text": [
      "epoch: 1 | train loss: 1.18703  | lr: 9.998601e-03:   1%|▏                    | 1201/154323 [04:32<23:05:28,  1.84it/s]"
     ]
    },
    {
     "name": "stdout",
     "output_type": "stream",
     "text": [
      " đã từng được thưởng thức chúng em đều được đi học mà ngay từ lúc nào cũng thấy có nhiều thứ đồ ăn trong thế giới nghệ thuật để thể hiện trong thơ Năm 1955.\n",
      "Nguyễn Du là một nhà thơ có nhiều người đã thể hiện cảm xúc và nhân vật của Nguyễn Du đã thể hiện cái tôi của mình, chúng ta cần có thêm một chuỗi những thứ trong truyện ngắn nhưng thật đáng quý nhất để thực hiện tốt nhiệm vụ cho mọi người. Các chi tiết này có thể có thể làm nên chiến thắng trong cuộc sống. Chúng ta cần hiểu rõ nhưng không có gì thì đã từng đi theo điều chỉnh trái người thì tinh thần đạo đức tốt đẹp của người khác. Những điều đó khiến cho chúng ta có thể là một thứ để tránh những người bạn thân thiết và chiến đấu chống trả của con người. Cả trường thi tập chính là những người bạn thân như vậy, để con người nhìn thấy cái đẹp của cái đẹp của mình như thế nào trong cuộc sống của mình. Nhưng k\n"
     ]
    },
    {
     "name": "stderr",
     "output_type": "stream",
     "text": [
      "epoch: 1 | train loss: 1.18458  | lr: 9.998349e-03:   1%|▏                    | 1301/154323 [04:55<21:08:28,  2.01it/s]"
     ]
    },
    {
     "name": "stdout",
     "output_type": "stream",
     "text": [
      " cho thành phố những thành chúng ta thế hiện trong bên trong trắng trước được nên chơi vàng như thể thì những chim sâu vô cùng trong sáng và thoải mái như chiếc máy bay cho chúng em trong làng. Em rất thích những câu chuyện cổ tích của em đã thấy tôi vô cùng thích thú và thường xuyên được thưởng thức một chỗ để đứng để làm việc của cô và tiếng chim hót ríu rít để thu hút trong các cánh hoa cho những người có những người nông dân đã chung tay chỉ có thể chia làm ba năm đường chuyên nghiệp của mình và cho chúng tôi được chiếm lĩnh trong những ngày đầu tiên đi học. Chúng em đã thấy nó cũng chẳng biết trong nhà thì chúng tôi đã chuẩn bị cho chúng ta những người con một con người ta cần phải có những thứ và chiếc máy bay để chiếm lĩnh để cho thấy thật đáng trân trọng cho các bạn trong lớp để cho những chú chim chóc của bố có nhiều con thuyền đã được c\n"
     ]
    },
    {
     "name": "stderr",
     "output_type": "stream",
     "text": [
      "epoch: 1 | train loss: 1.18347  | lr: 9.998077e-03:   1%|▏                    | 1401/154323 [05:18<22:49:54,  1.86it/s]"
     ]
    },
    {
     "name": "stdout",
     "output_type": "stream",
     "text": [
      " để chiến thắng của người thân, thế nhưng chúng ta cần được chia sẻ niềm vui trong cuộc đời và cảm thông và thương cảm và thiếu trách nhiệm về người đọc một cách thấm đượm chiếc máy bay thì một tiếng trống trường học tập để theo đuổi cho mình một cách đánh dấu cho chúng em. Trong chiếc cặp được chúng tôi tổng hợp lý thầy hiệu trưởng theo một chi tiết ngày nay. Trong thời kì Thanh Hóa, chú thỏ nhưng không thể nào quên được thì thường ngắm nhìn cảnh biển trong những ngày tháng như một tiếng trống trường và người mẹ thứ nhất, chúng ta cần có những chuyện nhỏ nhưng người cha đã thành công và cho thấy những con chó thật to lớn nhất, đẹp đẽ. Thế rồi cây chuối có màu trắng trong veo và những tia nắng ấm áp cho những chùm như chiếc đèn lồng như thế nào để ngắm nhìn chúng tôi và mọi người thì chúng tôi được thưởng thức và cho chúng tôi về nhà tôi cũng là người con gái \n"
     ]
    },
    {
     "name": "stderr",
     "output_type": "stream",
     "text": [
      "epoch: 1 | train loss: 1.17969  | lr: 9.997785e-03:   1%|▏                    | 1501/154323 [05:40<21:33:11,  1.97it/s]"
     ]
    },
    {
     "name": "stdout",
     "output_type": "stream",
     "text": [
      "to tham năm tháng. Năm 1945, chúng ta cần phải trả lời trong trẻ em chúng em đã giúp em trong trường thi năm 1975, nhà thơ của nhà văn trước hết chính là truyện cổ tích của nhân dân ta. Thế nhưng cũng có hình thức trong tác phẩm của ông cũng có một chiến tranh được nhân dân ta từ 1500 đồng bào của người chơi và được chiến thắng này có thể được tập trung và thấy mình và chính những người nghèo khổ cho thế hệ trẻ chúng ta cần chú ý. Và ngày nay chúng ta cần phải có thái độ trong tương lai. Thế mà nó còn là một trong những người có trách nhiệm của người nghệ sĩ. Người có lòng tự hào của trái tim của người dân đã thu đã thể hiện sự thật của cha ông ta đã trải qua trong tâm hồn của người dân ngày càng cao thì những người tham gia giao thông và tham gia các hoạt động của câu thơ mang tính chất thơ Xuân Diệu trong tác phẩm văn học Việt Nam, trong những tác phẩm của ô\n"
     ]
    },
    {
     "name": "stderr",
     "output_type": "stream",
     "text": [
      "epoch: 1 | train loss: 1.18060  | lr: 9.997471e-03:   1%|▏                    | 1601/154323 [06:03<24:22:21,  1.74it/s]"
     ]
    },
    {
     "name": "stdout",
     "output_type": "stream",
     "text": [
      "t trong các loài cây ăn quả nghiêm khắc. Ngoài ra còn có thể cho chúng em. Nhưng chỉ cần chú trâu đã làm người thì như những bông hoa nhỏ xíu như những chiếc má đỏ thắm. Cánh hoa chín như một ngọn núi chính trong cuộc sống của con người đã được thể hiện của con người Việt Nam theo đúng được viết về việc học và chính công việc và đáp ứng cách mạng tháng Tám. Nhưng đâu phải có nhiều điều cần thiết cho mình trong cuộc sống của mình. Người ta có thể nhìn thấy từ những chiến đấu và cách mạng của nhà thơ cũng là con người trong thời kì thơ tự do của đất nước nhưng người đọc cũng đã từng nói: \"Đây là một chiếc đuôi đỏ thắm. Chiếc bàn học thật đẹp biết bao nhiêu. Chiếc bàn chú trong gió mát rượi và màu xanh lá cây vươn thành những chiếc lá tre có màu trắng tinh khôi, chính là những chiếc lá màu trắng đỏ rực rỡ được bao bọc bên những cành cây như một chiếc túi đỏ thắm.\n"
     ]
    },
    {
     "name": "stderr",
     "output_type": "stream",
     "text": [
      "epoch: 1 | train loss: 1.17629  | lr: 9.997137e-03:   1%|▏                    | 1701/154323 [06:26<21:26:41,  1.98it/s]"
     ]
    },
    {
     "name": "stdout",
     "output_type": "stream",
     "text": [
      " (1915 – 1945). Đó là \"chuyên nghiệp hội thuốc lá đã trở thành những người nghiện đánh giặc của con người. Trong những ngày hè nóng bức của chú gà chín như một chiếc áo màu trắng như một bông hoa đang ngồi chơi đùa và trở thành người bạn và cũng như một chú gấu chăm sóc cho em. Trong đó trong đó có người đi trước nhà em cũng như thấy được những người bạn đang ngồi vào bàn trong cuộc sống và chính trực tiếp của chúng em trong gia đình em có thể chia sẻ cho chúng em. Nhưng trong đó có lẽ đó là nơi chỉ còn nhờ có bà cũng chỉ bảo chúng em thường chạy đến chỗ chúng em. Nhưng chú chó là chú cá vàng thật đáng yêu. Chiếc cặp mà trường học là thầy thuốc phải nhiều hơn những điều trên đường làng được trang trí trong lòng mình một trong những trò chơi điện tiếp của bản thân, thể hiện thái độ sống của chúng ta có thể không ngừng cống hiến cả nhân vật chính và thiếu trung \n"
     ]
    },
    {
     "name": "stderr",
     "output_type": "stream",
     "text": [
      "epoch: 1 | train loss: 1.18394  | lr: 9.996782e-03:   1%|▏                    | 1801/154323 [06:48<22:07:05,  1.92it/s]"
     ]
    },
    {
     "name": "stdout",
     "output_type": "stream",
     "text": [
      "ÂÂJÂÂÂÂÂJÂJÂJÂJJJJJÂJÂÂÂÂÂÂÂÂÂÂÂÂÂÂÂJJÂÂJÂJJJJÂJÂÂÂÂÂÂJJJJJJÂJJÂJJÂJJJÂÂÂJÂÂÂJJÂÂJÂJÂJJÂÂJÂJÂÂJÂJÂÂÂÂJÂJJJJJÂJJJÂJÂJÂÂÂÂÂÂÂÂÂÂÂÂÂÂÂÂÂÂJÂÂJJJÂÂJÂÂJÂJÂJJÂJJJÂÂJÂÂJÂÂÂÂJÂJÂJÂJÂJÂÂÂÂÂÂÂÂÂÂÂÂÂÂÂÂÂÂÂÂJÂÂÂÂJÂJÂÂÂÂJÂJÂÂÂÂÂJÂÂÂÂÂÂÂÂÂÂJJÂJJJÂJÂÂÂÂÂÂÂÂÂÂÂÂÂÂÂÂÂJÂÂÂÂÂÂÂÂÂÂÂÂÂÂÂÂJÂÂÂÂÂÂÂÂÂÂJÂJÂJÂJÂÂÂÂÂÂÂÂÂÂÂÂÂJÂJJÂJÂJÂJÂÂJJJJJJJÂJJJJÂÂÂÂJÂÂÂÂÂÂÂÂÂÂÂÂÂÂÂÂJÂÂJÂÂÂÂJÂJÂÂÂJÂÂÂÂÂJÂJÂJJJJJJJJJÂJJJÂÂJJJJJJJÂJÂJÂJJÂJJJJJJÂJÂJÂJJJJÂJÂJÂJÂJJÂJJÂÂÂJÂÂÂÂÂÂÂÂÂÂÂJÂÂÂÂÂÂÂÂÂÂÂÂÂÂJÂÂJÂÂÂÂÂÂÂÂÂÂÂÂÂÂÂÂÂÂÂÂJÂJÂJJJJJJÂJJJÂÂÂÂÂÂÂÂÂÂÂÂÂÂJÂÂÂÂÂÂÂÂÂÂÂÂÂÂÂÂÂÂÂÂÂJÂÂÂÂÂÂÂJÂÂJÂÂÂJÂÂJÂÂÂÂÂÂÂÂÂÂÂÂJÂJJJJÂJJJÂJJJJJJÂÂJJJÂJJJÂJJJÂJJJJJJJJJÂJJJJJJJÂJÂÂÂÂÂÂÂÂÂJÂJÂJÂJÂJÂÂÂJÂJJÂJÂJÂJÂJJÂÂJJÂÂJÂJÂJÂJÂJÂJÂJÂJJÂJJJÂJÂJÂJÂJJJJJJJÂJJJJJJJJJJJJJJJJJJÂJJÂJÂJJJÂJÂJÂÂÂJJJJÂJJJÂJÂJÂJÂJÂJÂJJJJJJJJJJJJJJJJJJJÂÂÂJÂÂJÂÂÂÂÂÂÂJJJÂÂJÂÂÂÂÂÂJÂÂÂÂÂÂÂÂÂÂÂÂÂÂÂÂÂÂJÂÂJÂJÂJÂÂÂÂJÂJÂJJJÂJJÂJÂÂJÂÂÂÂÂÂÂÂÂÂÂJÂÂÂÂÂÂÂÂÂÂÂÂÂÂÂÂÂÂJÂJJÂJÂJÂÂÂÂÂÂ\n"
     ]
    },
    {
     "name": "stderr",
     "output_type": "stream",
     "text": [
      "epoch: 1 | train loss: 1.18169  | lr: 9.996407e-03:   1%|▎                    | 1901/154323 [07:11<22:27:24,  1.89it/s]"
     ]
    },
    {
     "name": "stdout",
     "output_type": "stream",
     "text": [
      " thu hút nhiều câu chuyện thì chúng ta có thể kể đến thành phố Hồ Chí Minh còn được thể hiện rõ nhất của chủ nghĩa chính là đạt được tinh thần tự học. Như vậy, chúng ta cần phải cố gắng cho con người ta chỉ biết đi theo thời gian.\n",
      "Nhà thơ có chút thất bại của mỗi người chúng ta thành công trong công việc. Chính từ đó chỉ là một con người thiên nhiên của người thiên nga đã có thể trở thành con người nhưng đã thay đổi và thiếu thốn tình cảm của con người. Trong lòng người đọc sẽ không thể không ngừng thấm đẫm cho những người con trưởng thông của những người bạn thân thiết.\n",
      "Một thời gian đã trở thành một trong những bài học cho bản thân chúng ta có thể trở thành một trong những người thân yêu nhất của em. Người cầm quy luật của mình đến lúc như vậy. Nhưng tôi thấy trong trẻo của mẹ em năm nay đã có lần chỉ còn năm cánh chạy vào chân trời. Ngày nào cũng vậy, em đã\n"
     ]
    },
    {
     "name": "stderr",
     "output_type": "stream",
     "text": [
      "epoch: 1 | train loss: 1.18558  | lr: 9.996388e-03:   1%|▎                    | 1906/154323 [07:12<11:13:25,  3.77it/s]"
     ]
    }
   ],
   "source": [
    "trainer.train()"
   ]
  },
  {
   "cell_type": "code",
   "execution_count": 87,
   "metadata": {
    "scrolled": true
   },
   "outputs": [
    {
     "data": {
      "text/plain": [
       "'cháu lên ba để đánh giá thể hiện đầy đủ và đặc biệt của đất nước và cảm xúc về tình thương của con người có ý thức sự chỉ cho những người có những nét chữ đầy đủ nghệ thuật của mình, con người chỉ là nguồn cảm hứng đối với tác phẩm: Như thế hệ trẻ, nhà thơ đã giúp chúng ta có ý thức chiến đấu cho mỗi người đều có thể trở thành con gà mình và người ta còn là người thân cho tôi. Mẹ em có thể trả lời con người chúng ta có thể cảm nhận được những thói hư chiến thắng cho ta thấy được tình cảnh của thơ ca ngợi ca nhiều người có thể làm được những nhận thức tốt đẹp của con người. Từ chính ta ngày một gia đình với nhau để làm việc hành hạ chỉ có thể thấy được cả một con người có thể thấy rất nhiều, được thể hiện được những điều đó có thể là một thứ tri thức của con người, thể hiện được cả một nguồn tốt của mình.\\nĐể có thể có thêm nhiều những câu chuyện trong thế giới tri thức củ'"
      ]
     },
     "execution_count": 87,
     "metadata": {},
     "output_type": "execute_result"
    }
   ],
   "source": [
    "sample = \"cháu lên ba\"\n",
    "model.generate_output(sample, dataset, top_k=5, temperature=0.7)"
   ]
  },
  {
   "cell_type": "code",
   "execution_count": 74,
   "metadata": {},
   "outputs": [],
   "source": [
    "from utils.utils import pickle\n",
    "#parameters = pickle('checkpoint/lstm', model.parameters()) # save\n",
    "model.params = pickle('checkpoint/lstm') # load"
   ]
  }
 ],
 "metadata": {
  "kernelspec": {
   "display_name": "Python 3",
   "language": "python",
   "name": "python3"
  },
  "language_info": {
   "codemirror_mode": {
    "name": "ipython",
    "version": 3
   },
   "file_extension": ".py",
   "mimetype": "text/x-python",
   "name": "python",
   "nbconvert_exporter": "python",
   "pygments_lexer": "ipython3",
   "version": "3.7.6"
  }
 },
 "nbformat": 4,
 "nbformat_minor": 4
}
